{
 "cells": [
  {
   "cell_type": "raw",
   "metadata": {
    "lines_to_next_cell": 0
   },
   "source": [
    "---\n",
    "title: \"Cryptography_course_adverts\"\n",
    "author: \"Lydia Ndiba\"\n",
    "date: \"3/2/2020\"\n",
    "output: html_document\n",
    "---"
   ]
  },
  {
   "cell_type": "markdown",
   "metadata": {},
   "source": [
    "---\n",
    "title: \"cryptography adverts\"\n",
    "author: \"Lydia Ndiba\"\n",
    "date: \"2/28/2020\"\n",
    "output:\n",
    "  pdf_document: default\n",
    "  html_document: default\n",
    "---\n",
    "\n",
    "1.1 Defining the Question\n",
    "\n",
    "Identifing which individuals are most likely to click on her ads. \n",
    "\n",
    "1.2 The Context\n",
    "\n",
    "A Kenyan entrepreneur has created an online cryptography course and would want to advertise it on her blog. She currently targets audiences originating from various countries. In the past, she ran ads to advertise a related course on the same blog and collected data in the process. She would now like to employ your services as a Data Science Consultant to help her identify which individuals are most likely to click on her ads. \n",
    "\n",
    "1.3 Metrics for Success\n",
    "\n",
    "Analysisng the data to get the target audience.\n",
    "\n",
    "1.1.4 Experimental Design Taken\n",
    "\n",
    "Loading the data\n",
    "Reading the data\n",
    "Data Cleaning\n",
    "Exploratory Data Analysis\n",
    "Conclusion\n",
    "\n",
    "1.1.5 Appropriateness of the Data\n",
    "\n",
    "Dataset link: link text\n",
    "The columns in the dataset are:\n",
    "Daily Time Spent on Site\n",
    "Age\n",
    "Area Income\n",
    "Daily Internet Usage\n",
    "Ad Topic Line\n",
    "City\n",
    "Male\n",
    "Country\n",
    "Timestamp\n",
    "Clicked on Ad"
   ]
  },
  {
   "cell_type": "code",
   "execution_count": 1,
   "metadata": {
    "hide_output": true,
    "lines_to_next_cell": 0,
    "name": "setup"
   },
   "outputs": [
    {
     "data": {
      "text/html": [
       "<table>\n",
       "<caption>A data.frame: 6 × 10</caption>\n",
       "<thead>\n",
       "\t<tr><th></th><th scope=col>Daily.Time.Spent.on.Site</th><th scope=col>Age</th><th scope=col>Area.Income</th><th scope=col>Daily.Internet.Usage</th><th scope=col>Ad.Topic.Line</th><th scope=col>City</th><th scope=col>Male</th><th scope=col>Country</th><th scope=col>Timestamp</th><th scope=col>Clicked.on.Ad</th></tr>\n",
       "\t<tr><th></th><th scope=col>&lt;dbl&gt;</th><th scope=col>&lt;int&gt;</th><th scope=col>&lt;dbl&gt;</th><th scope=col>&lt;dbl&gt;</th><th scope=col>&lt;fct&gt;</th><th scope=col>&lt;fct&gt;</th><th scope=col>&lt;int&gt;</th><th scope=col>&lt;fct&gt;</th><th scope=col>&lt;fct&gt;</th><th scope=col>&lt;int&gt;</th></tr>\n",
       "</thead>\n",
       "<tbody>\n",
       "\t<tr><th scope=row>1</th><td>68.95</td><td>35</td><td>61833.90</td><td>256.09</td><td>Cloned 5thgeneration orchestration   </td><td>Wrightburgh   </td><td>0</td><td>Tunisia   </td><td>2016-03-27 00:53:11</td><td>0</td></tr>\n",
       "\t<tr><th scope=row>2</th><td>80.23</td><td>31</td><td>68441.85</td><td>193.77</td><td>Monitored national standardization   </td><td>West Jodi     </td><td>1</td><td>Nauru     </td><td>2016-04-04 01:39:02</td><td>0</td></tr>\n",
       "\t<tr><th scope=row>3</th><td>69.47</td><td>26</td><td>59785.94</td><td>236.50</td><td>Organic bottom-line service-desk     </td><td>Davidton      </td><td>0</td><td>San Marino</td><td>2016-03-13 20:35:42</td><td>0</td></tr>\n",
       "\t<tr><th scope=row>4</th><td>74.15</td><td>29</td><td>54806.18</td><td>245.89</td><td>Triple-buffered reciprocal time-frame</td><td>West Terrifurt</td><td>1</td><td>Italy     </td><td>2016-01-10 02:31:19</td><td>0</td></tr>\n",
       "\t<tr><th scope=row>5</th><td>68.37</td><td>35</td><td>73889.99</td><td>225.58</td><td>Robust logistical utilization        </td><td>South Manuel  </td><td>0</td><td>Iceland   </td><td>2016-06-03 03:36:18</td><td>0</td></tr>\n",
       "\t<tr><th scope=row>6</th><td>59.99</td><td>23</td><td>59761.56</td><td>226.74</td><td>Sharable client-driven software      </td><td>Jamieberg     </td><td>1</td><td>Norway    </td><td>2016-05-19 14:30:17</td><td>0</td></tr>\n",
       "</tbody>\n",
       "</table>\n"
      ],
      "text/latex": [
       "A data.frame: 6 × 10\n",
       "\\begin{tabular}{r|llllllllll}\n",
       "  & Daily.Time.Spent.on.Site & Age & Area.Income & Daily.Internet.Usage & Ad.Topic.Line & City & Male & Country & Timestamp & Clicked.on.Ad\\\\\n",
       "  & <dbl> & <int> & <dbl> & <dbl> & <fct> & <fct> & <int> & <fct> & <fct> & <int>\\\\\n",
       "\\hline\n",
       "\t1 & 68.95 & 35 & 61833.90 & 256.09 & Cloned 5thgeneration orchestration    & Wrightburgh    & 0 & Tunisia    & 2016-03-27 00:53:11 & 0\\\\\n",
       "\t2 & 80.23 & 31 & 68441.85 & 193.77 & Monitored national standardization    & West Jodi      & 1 & Nauru      & 2016-04-04 01:39:02 & 0\\\\\n",
       "\t3 & 69.47 & 26 & 59785.94 & 236.50 & Organic bottom-line service-desk      & Davidton       & 0 & San Marino & 2016-03-13 20:35:42 & 0\\\\\n",
       "\t4 & 74.15 & 29 & 54806.18 & 245.89 & Triple-buffered reciprocal time-frame & West Terrifurt & 1 & Italy      & 2016-01-10 02:31:19 & 0\\\\\n",
       "\t5 & 68.37 & 35 & 73889.99 & 225.58 & Robust logistical utilization         & South Manuel   & 0 & Iceland    & 2016-06-03 03:36:18 & 0\\\\\n",
       "\t6 & 59.99 & 23 & 59761.56 & 226.74 & Sharable client-driven software       & Jamieberg      & 1 & Norway     & 2016-05-19 14:30:17 & 0\\\\\n",
       "\\end{tabular}\n"
      ],
      "text/markdown": [
       "\n",
       "A data.frame: 6 × 10\n",
       "\n",
       "| <!--/--> | Daily.Time.Spent.on.Site &lt;dbl&gt; | Age &lt;int&gt; | Area.Income &lt;dbl&gt; | Daily.Internet.Usage &lt;dbl&gt; | Ad.Topic.Line &lt;fct&gt; | City &lt;fct&gt; | Male &lt;int&gt; | Country &lt;fct&gt; | Timestamp &lt;fct&gt; | Clicked.on.Ad &lt;int&gt; |\n",
       "|---|---|---|---|---|---|---|---|---|---|---|\n",
       "| 1 | 68.95 | 35 | 61833.90 | 256.09 | Cloned 5thgeneration orchestration    | Wrightburgh    | 0 | Tunisia    | 2016-03-27 00:53:11 | 0 |\n",
       "| 2 | 80.23 | 31 | 68441.85 | 193.77 | Monitored national standardization    | West Jodi      | 1 | Nauru      | 2016-04-04 01:39:02 | 0 |\n",
       "| 3 | 69.47 | 26 | 59785.94 | 236.50 | Organic bottom-line service-desk      | Davidton       | 0 | San Marino | 2016-03-13 20:35:42 | 0 |\n",
       "| 4 | 74.15 | 29 | 54806.18 | 245.89 | Triple-buffered reciprocal time-frame | West Terrifurt | 1 | Italy      | 2016-01-10 02:31:19 | 0 |\n",
       "| 5 | 68.37 | 35 | 73889.99 | 225.58 | Robust logistical utilization         | South Manuel   | 0 | Iceland    | 2016-06-03 03:36:18 | 0 |\n",
       "| 6 | 59.99 | 23 | 59761.56 | 226.74 | Sharable client-driven software       | Jamieberg      | 1 | Norway     | 2016-05-19 14:30:17 | 0 |\n",
       "\n"
      ],
      "text/plain": [
       "  Daily.Time.Spent.on.Site Age Area.Income Daily.Internet.Usage\n",
       "1 68.95                    35  61833.90    256.09              \n",
       "2 80.23                    31  68441.85    193.77              \n",
       "3 69.47                    26  59785.94    236.50              \n",
       "4 74.15                    29  54806.18    245.89              \n",
       "5 68.37                    35  73889.99    225.58              \n",
       "6 59.99                    23  59761.56    226.74              \n",
       "  Ad.Topic.Line                         City           Male Country   \n",
       "1 Cloned 5thgeneration orchestration    Wrightburgh    0    Tunisia   \n",
       "2 Monitored national standardization    West Jodi      1    Nauru     \n",
       "3 Organic bottom-line service-desk      Davidton       0    San Marino\n",
       "4 Triple-buffered reciprocal time-frame West Terrifurt 1    Italy     \n",
       "5 Robust logistical utilization         South Manuel   0    Iceland   \n",
       "6 Sharable client-driven software       Jamieberg      1    Norway    \n",
       "  Timestamp           Clicked.on.Ad\n",
       "1 2016-03-27 00:53:11 0            \n",
       "2 2016-04-04 01:39:02 0            \n",
       "3 2016-03-13 20:35:42 0            \n",
       "4 2016-01-10 02:31:19 0            \n",
       "5 2016-06-03 03:36:18 0            \n",
       "6 2016-05-19 14:30:17 0            "
      ]
     },
     "metadata": {},
     "output_type": "display_data"
    }
   ],
   "source": [
    "# loading our csv\n",
    "ads = read.csv('advertising.csv')\n",
    "\n",
    "# reading our first six rows\n",
    "head(ads)"
   ]
  },
  {
   "cell_type": "code",
   "execution_count": 2,
   "metadata": {
    "lines_to_next_cell": 0
   },
   "outputs": [
    {
     "data": {
      "text/plain": [
       " Daily.Time.Spent.on.Site      Age         Area.Income    Daily.Internet.Usage\n",
       " Min.   :32.60            Min.   :19.00   Min.   :13996   Min.   :104.8       \n",
       " 1st Qu.:51.36            1st Qu.:29.00   1st Qu.:47032   1st Qu.:138.8       \n",
       " Median :68.22            Median :35.00   Median :57012   Median :183.1       \n",
       " Mean   :65.00            Mean   :36.01   Mean   :55000   Mean   :180.0       \n",
       " 3rd Qu.:78.55            3rd Qu.:42.00   3rd Qu.:65471   3rd Qu.:218.8       \n",
       " Max.   :91.43            Max.   :61.00   Max.   :79485   Max.   :270.0       \n",
       "                                                                              \n",
       "                                 Ad.Topic.Line              City    \n",
       " Adaptive 24hour Graphic Interface      :  1   Lisamouth      :  3  \n",
       " Adaptive asynchronous attitude         :  1   Williamsport   :  3  \n",
       " Adaptive context-sensitive application :  1   Benjaminchester:  2  \n",
       " Adaptive contextually-based methodology:  1   East John      :  2  \n",
       " Adaptive demand-driven knowledgebase   :  1   East Timothy   :  2  \n",
       " Adaptive uniform capability            :  1   Johnstad       :  2  \n",
       " (Other)                                :994   (Other)        :986  \n",
       "      Male                 Country                  Timestamp   Clicked.on.Ad\n",
       " Min.   :0.000   Czech Republic:  9   2016-01-01 02:52:10:  1   Min.   :0.0  \n",
       " 1st Qu.:0.000   France        :  9   2016-01-01 03:35:35:  1   1st Qu.:0.0  \n",
       " Median :0.000   Afghanistan   :  8   2016-01-01 05:31:22:  1   Median :0.5  \n",
       " Mean   :0.481   Australia     :  8   2016-01-01 08:27:06:  1   Mean   :0.5  \n",
       " 3rd Qu.:1.000   Cyprus        :  8   2016-01-01 15:14:24:  1   3rd Qu.:1.0  \n",
       " Max.   :1.000   Greece        :  8   2016-01-01 20:17:49:  1   Max.   :1.0  \n",
       "                 (Other)       :950   (Other)            :994                "
      ]
     },
     "metadata": {},
     "output_type": "display_data"
    }
   ],
   "source": [
    "# Checking for the summary description of our data\n",
    "\n",
    "summary(ads)"
   ]
  },
  {
   "cell_type": "code",
   "execution_count": 3,
   "metadata": {
    "lines_to_next_cell": 0
   },
   "outputs": [
    {
     "name": "stdout",
     "output_type": "stream",
     "text": [
      "'data.frame':\t1000 obs. of  10 variables:\n",
      " $ Daily.Time.Spent.on.Site: num  69 80.2 69.5 74.2 68.4 ...\n",
      " $ Age                     : int  35 31 26 29 35 23 33 48 30 20 ...\n",
      " $ Area.Income             : num  61834 68442 59786 54806 73890 ...\n",
      " $ Daily.Internet.Usage    : num  256 194 236 246 226 ...\n",
      " $ Ad.Topic.Line           : Factor w/ 1000 levels \"Adaptive 24hour Graphic Interface\",..: 92 465 567 904 767 806 223 724 108 455 ...\n",
      " $ City                    : Factor w/ 969 levels \"Adamsbury\",\"Adamside\",..: 962 904 112 940 806 283 47 672 885 713 ...\n",
      " $ Male                    : int  0 1 0 1 0 1 0 1 1 1 ...\n",
      " $ Country                 : Factor w/ 237 levels \"Afghanistan\",..: 216 148 185 104 97 159 146 13 83 79 ...\n",
      " $ Timestamp               : Factor w/ 1000 levels \"2016-01-01 02:52:10\",..: 440 475 368 57 768 690 131 334 549 942 ...\n",
      " $ Clicked.on.Ad           : int  0 0 0 0 0 0 0 1 0 0 ...\n"
     ]
    }
   ],
   "source": [
    "# Checking the structure of our dataset\n",
    "\n",
    "str(ads)"
   ]
  },
  {
   "cell_type": "markdown",
   "metadata": {},
   "source": [
    "We have 1000 rows by 10 columns and most the datatypes have been given as numeric and factors."
   ]
  },
  {
   "cell_type": "code",
   "execution_count": 4,
   "metadata": {},
   "outputs": [
    {
     "data": {
      "text/html": [
       "<table>\n",
       "<caption>A matrix: 1000 × 10 of type lgl</caption>\n",
       "<thead>\n",
       "\t<tr><th scope=col>Daily.Time.Spent.on.Site</th><th scope=col>Age</th><th scope=col>Area.Income</th><th scope=col>Daily.Internet.Usage</th><th scope=col>Ad.Topic.Line</th><th scope=col>City</th><th scope=col>Male</th><th scope=col>Country</th><th scope=col>Timestamp</th><th scope=col>Clicked.on.Ad</th></tr>\n",
       "</thead>\n",
       "<tbody>\n",
       "\t<tr><td>FALSE</td><td>FALSE</td><td>FALSE</td><td>FALSE</td><td>FALSE</td><td>FALSE</td><td>FALSE</td><td>FALSE</td><td>FALSE</td><td>FALSE</td></tr>\n",
       "\t<tr><td>FALSE</td><td>FALSE</td><td>FALSE</td><td>FALSE</td><td>FALSE</td><td>FALSE</td><td>FALSE</td><td>FALSE</td><td>FALSE</td><td>FALSE</td></tr>\n",
       "\t<tr><td>FALSE</td><td>FALSE</td><td>FALSE</td><td>FALSE</td><td>FALSE</td><td>FALSE</td><td>FALSE</td><td>FALSE</td><td>FALSE</td><td>FALSE</td></tr>\n",
       "\t<tr><td>FALSE</td><td>FALSE</td><td>FALSE</td><td>FALSE</td><td>FALSE</td><td>FALSE</td><td>FALSE</td><td>FALSE</td><td>FALSE</td><td>FALSE</td></tr>\n",
       "\t<tr><td>FALSE</td><td>FALSE</td><td>FALSE</td><td>FALSE</td><td>FALSE</td><td>FALSE</td><td>FALSE</td><td>FALSE</td><td>FALSE</td><td>FALSE</td></tr>\n",
       "\t<tr><td>FALSE</td><td>FALSE</td><td>FALSE</td><td>FALSE</td><td>FALSE</td><td>FALSE</td><td>FALSE</td><td>FALSE</td><td>FALSE</td><td>FALSE</td></tr>\n",
       "\t<tr><td>FALSE</td><td>FALSE</td><td>FALSE</td><td>FALSE</td><td>FALSE</td><td>FALSE</td><td>FALSE</td><td>FALSE</td><td>FALSE</td><td>FALSE</td></tr>\n",
       "\t<tr><td>FALSE</td><td>FALSE</td><td>FALSE</td><td>FALSE</td><td>FALSE</td><td>FALSE</td><td>FALSE</td><td>FALSE</td><td>FALSE</td><td>FALSE</td></tr>\n",
       "\t<tr><td>FALSE</td><td>FALSE</td><td>FALSE</td><td>FALSE</td><td>FALSE</td><td>FALSE</td><td>FALSE</td><td>FALSE</td><td>FALSE</td><td>FALSE</td></tr>\n",
       "\t<tr><td>FALSE</td><td>FALSE</td><td>FALSE</td><td>FALSE</td><td>FALSE</td><td>FALSE</td><td>FALSE</td><td>FALSE</td><td>FALSE</td><td>FALSE</td></tr>\n",
       "\t<tr><td>FALSE</td><td>FALSE</td><td>FALSE</td><td>FALSE</td><td>FALSE</td><td>FALSE</td><td>FALSE</td><td>FALSE</td><td>FALSE</td><td>FALSE</td></tr>\n",
       "\t<tr><td>FALSE</td><td>FALSE</td><td>FALSE</td><td>FALSE</td><td>FALSE</td><td>FALSE</td><td>FALSE</td><td>FALSE</td><td>FALSE</td><td>FALSE</td></tr>\n",
       "\t<tr><td>FALSE</td><td>FALSE</td><td>FALSE</td><td>FALSE</td><td>FALSE</td><td>FALSE</td><td>FALSE</td><td>FALSE</td><td>FALSE</td><td>FALSE</td></tr>\n",
       "\t<tr><td>FALSE</td><td>FALSE</td><td>FALSE</td><td>FALSE</td><td>FALSE</td><td>FALSE</td><td>FALSE</td><td>FALSE</td><td>FALSE</td><td>FALSE</td></tr>\n",
       "\t<tr><td>FALSE</td><td>FALSE</td><td>FALSE</td><td>FALSE</td><td>FALSE</td><td>FALSE</td><td>FALSE</td><td>FALSE</td><td>FALSE</td><td>FALSE</td></tr>\n",
       "\t<tr><td>FALSE</td><td>FALSE</td><td>FALSE</td><td>FALSE</td><td>FALSE</td><td>FALSE</td><td>FALSE</td><td>FALSE</td><td>FALSE</td><td>FALSE</td></tr>\n",
       "\t<tr><td>FALSE</td><td>FALSE</td><td>FALSE</td><td>FALSE</td><td>FALSE</td><td>FALSE</td><td>FALSE</td><td>FALSE</td><td>FALSE</td><td>FALSE</td></tr>\n",
       "\t<tr><td>FALSE</td><td>FALSE</td><td>FALSE</td><td>FALSE</td><td>FALSE</td><td>FALSE</td><td>FALSE</td><td>FALSE</td><td>FALSE</td><td>FALSE</td></tr>\n",
       "\t<tr><td>FALSE</td><td>FALSE</td><td>FALSE</td><td>FALSE</td><td>FALSE</td><td>FALSE</td><td>FALSE</td><td>FALSE</td><td>FALSE</td><td>FALSE</td></tr>\n",
       "\t<tr><td>FALSE</td><td>FALSE</td><td>FALSE</td><td>FALSE</td><td>FALSE</td><td>FALSE</td><td>FALSE</td><td>FALSE</td><td>FALSE</td><td>FALSE</td></tr>\n",
       "\t<tr><td>FALSE</td><td>FALSE</td><td>FALSE</td><td>FALSE</td><td>FALSE</td><td>FALSE</td><td>FALSE</td><td>FALSE</td><td>FALSE</td><td>FALSE</td></tr>\n",
       "\t<tr><td>FALSE</td><td>FALSE</td><td>FALSE</td><td>FALSE</td><td>FALSE</td><td>FALSE</td><td>FALSE</td><td>FALSE</td><td>FALSE</td><td>FALSE</td></tr>\n",
       "\t<tr><td>FALSE</td><td>FALSE</td><td>FALSE</td><td>FALSE</td><td>FALSE</td><td>FALSE</td><td>FALSE</td><td>FALSE</td><td>FALSE</td><td>FALSE</td></tr>\n",
       "\t<tr><td>FALSE</td><td>FALSE</td><td>FALSE</td><td>FALSE</td><td>FALSE</td><td>FALSE</td><td>FALSE</td><td>FALSE</td><td>FALSE</td><td>FALSE</td></tr>\n",
       "\t<tr><td>FALSE</td><td>FALSE</td><td>FALSE</td><td>FALSE</td><td>FALSE</td><td>FALSE</td><td>FALSE</td><td>FALSE</td><td>FALSE</td><td>FALSE</td></tr>\n",
       "\t<tr><td>FALSE</td><td>FALSE</td><td>FALSE</td><td>FALSE</td><td>FALSE</td><td>FALSE</td><td>FALSE</td><td>FALSE</td><td>FALSE</td><td>FALSE</td></tr>\n",
       "\t<tr><td>FALSE</td><td>FALSE</td><td>FALSE</td><td>FALSE</td><td>FALSE</td><td>FALSE</td><td>FALSE</td><td>FALSE</td><td>FALSE</td><td>FALSE</td></tr>\n",
       "\t<tr><td>FALSE</td><td>FALSE</td><td>FALSE</td><td>FALSE</td><td>FALSE</td><td>FALSE</td><td>FALSE</td><td>FALSE</td><td>FALSE</td><td>FALSE</td></tr>\n",
       "\t<tr><td>FALSE</td><td>FALSE</td><td>FALSE</td><td>FALSE</td><td>FALSE</td><td>FALSE</td><td>FALSE</td><td>FALSE</td><td>FALSE</td><td>FALSE</td></tr>\n",
       "\t<tr><td>FALSE</td><td>FALSE</td><td>FALSE</td><td>FALSE</td><td>FALSE</td><td>FALSE</td><td>FALSE</td><td>FALSE</td><td>FALSE</td><td>FALSE</td></tr>\n",
       "\t<tr><td>⋮</td><td>⋮</td><td>⋮</td><td>⋮</td><td>⋮</td><td>⋮</td><td>⋮</td><td>⋮</td><td>⋮</td><td>⋮</td></tr>\n",
       "\t<tr><td>FALSE</td><td>FALSE</td><td>FALSE</td><td>FALSE</td><td>FALSE</td><td>FALSE</td><td>FALSE</td><td>FALSE</td><td>FALSE</td><td>FALSE</td></tr>\n",
       "\t<tr><td>FALSE</td><td>FALSE</td><td>FALSE</td><td>FALSE</td><td>FALSE</td><td>FALSE</td><td>FALSE</td><td>FALSE</td><td>FALSE</td><td>FALSE</td></tr>\n",
       "\t<tr><td>FALSE</td><td>FALSE</td><td>FALSE</td><td>FALSE</td><td>FALSE</td><td>FALSE</td><td>FALSE</td><td>FALSE</td><td>FALSE</td><td>FALSE</td></tr>\n",
       "\t<tr><td>FALSE</td><td>FALSE</td><td>FALSE</td><td>FALSE</td><td>FALSE</td><td>FALSE</td><td>FALSE</td><td>FALSE</td><td>FALSE</td><td>FALSE</td></tr>\n",
       "\t<tr><td>FALSE</td><td>FALSE</td><td>FALSE</td><td>FALSE</td><td>FALSE</td><td>FALSE</td><td>FALSE</td><td>FALSE</td><td>FALSE</td><td>FALSE</td></tr>\n",
       "\t<tr><td>FALSE</td><td>FALSE</td><td>FALSE</td><td>FALSE</td><td>FALSE</td><td>FALSE</td><td>FALSE</td><td>FALSE</td><td>FALSE</td><td>FALSE</td></tr>\n",
       "\t<tr><td>FALSE</td><td>FALSE</td><td>FALSE</td><td>FALSE</td><td>FALSE</td><td>FALSE</td><td>FALSE</td><td>FALSE</td><td>FALSE</td><td>FALSE</td></tr>\n",
       "\t<tr><td>FALSE</td><td>FALSE</td><td>FALSE</td><td>FALSE</td><td>FALSE</td><td>FALSE</td><td>FALSE</td><td>FALSE</td><td>FALSE</td><td>FALSE</td></tr>\n",
       "\t<tr><td>FALSE</td><td>FALSE</td><td>FALSE</td><td>FALSE</td><td>FALSE</td><td>FALSE</td><td>FALSE</td><td>FALSE</td><td>FALSE</td><td>FALSE</td></tr>\n",
       "\t<tr><td>FALSE</td><td>FALSE</td><td>FALSE</td><td>FALSE</td><td>FALSE</td><td>FALSE</td><td>FALSE</td><td>FALSE</td><td>FALSE</td><td>FALSE</td></tr>\n",
       "\t<tr><td>FALSE</td><td>FALSE</td><td>FALSE</td><td>FALSE</td><td>FALSE</td><td>FALSE</td><td>FALSE</td><td>FALSE</td><td>FALSE</td><td>FALSE</td></tr>\n",
       "\t<tr><td>FALSE</td><td>FALSE</td><td>FALSE</td><td>FALSE</td><td>FALSE</td><td>FALSE</td><td>FALSE</td><td>FALSE</td><td>FALSE</td><td>FALSE</td></tr>\n",
       "\t<tr><td>FALSE</td><td>FALSE</td><td>FALSE</td><td>FALSE</td><td>FALSE</td><td>FALSE</td><td>FALSE</td><td>FALSE</td><td>FALSE</td><td>FALSE</td></tr>\n",
       "\t<tr><td>FALSE</td><td>FALSE</td><td>FALSE</td><td>FALSE</td><td>FALSE</td><td>FALSE</td><td>FALSE</td><td>FALSE</td><td>FALSE</td><td>FALSE</td></tr>\n",
       "\t<tr><td>FALSE</td><td>FALSE</td><td>FALSE</td><td>FALSE</td><td>FALSE</td><td>FALSE</td><td>FALSE</td><td>FALSE</td><td>FALSE</td><td>FALSE</td></tr>\n",
       "\t<tr><td>FALSE</td><td>FALSE</td><td>FALSE</td><td>FALSE</td><td>FALSE</td><td>FALSE</td><td>FALSE</td><td>FALSE</td><td>FALSE</td><td>FALSE</td></tr>\n",
       "\t<tr><td>FALSE</td><td>FALSE</td><td>FALSE</td><td>FALSE</td><td>FALSE</td><td>FALSE</td><td>FALSE</td><td>FALSE</td><td>FALSE</td><td>FALSE</td></tr>\n",
       "\t<tr><td>FALSE</td><td>FALSE</td><td>FALSE</td><td>FALSE</td><td>FALSE</td><td>FALSE</td><td>FALSE</td><td>FALSE</td><td>FALSE</td><td>FALSE</td></tr>\n",
       "\t<tr><td>FALSE</td><td>FALSE</td><td>FALSE</td><td>FALSE</td><td>FALSE</td><td>FALSE</td><td>FALSE</td><td>FALSE</td><td>FALSE</td><td>FALSE</td></tr>\n",
       "\t<tr><td>FALSE</td><td>FALSE</td><td>FALSE</td><td>FALSE</td><td>FALSE</td><td>FALSE</td><td>FALSE</td><td>FALSE</td><td>FALSE</td><td>FALSE</td></tr>\n",
       "\t<tr><td>FALSE</td><td>FALSE</td><td>FALSE</td><td>FALSE</td><td>FALSE</td><td>FALSE</td><td>FALSE</td><td>FALSE</td><td>FALSE</td><td>FALSE</td></tr>\n",
       "\t<tr><td>FALSE</td><td>FALSE</td><td>FALSE</td><td>FALSE</td><td>FALSE</td><td>FALSE</td><td>FALSE</td><td>FALSE</td><td>FALSE</td><td>FALSE</td></tr>\n",
       "\t<tr><td>FALSE</td><td>FALSE</td><td>FALSE</td><td>FALSE</td><td>FALSE</td><td>FALSE</td><td>FALSE</td><td>FALSE</td><td>FALSE</td><td>FALSE</td></tr>\n",
       "\t<tr><td>FALSE</td><td>FALSE</td><td>FALSE</td><td>FALSE</td><td>FALSE</td><td>FALSE</td><td>FALSE</td><td>FALSE</td><td>FALSE</td><td>FALSE</td></tr>\n",
       "\t<tr><td>FALSE</td><td>FALSE</td><td>FALSE</td><td>FALSE</td><td>FALSE</td><td>FALSE</td><td>FALSE</td><td>FALSE</td><td>FALSE</td><td>FALSE</td></tr>\n",
       "\t<tr><td>FALSE</td><td>FALSE</td><td>FALSE</td><td>FALSE</td><td>FALSE</td><td>FALSE</td><td>FALSE</td><td>FALSE</td><td>FALSE</td><td>FALSE</td></tr>\n",
       "\t<tr><td>FALSE</td><td>FALSE</td><td>FALSE</td><td>FALSE</td><td>FALSE</td><td>FALSE</td><td>FALSE</td><td>FALSE</td><td>FALSE</td><td>FALSE</td></tr>\n",
       "\t<tr><td>FALSE</td><td>FALSE</td><td>FALSE</td><td>FALSE</td><td>FALSE</td><td>FALSE</td><td>FALSE</td><td>FALSE</td><td>FALSE</td><td>FALSE</td></tr>\n",
       "\t<tr><td>FALSE</td><td>FALSE</td><td>FALSE</td><td>FALSE</td><td>FALSE</td><td>FALSE</td><td>FALSE</td><td>FALSE</td><td>FALSE</td><td>FALSE</td></tr>\n",
       "\t<tr><td>FALSE</td><td>FALSE</td><td>FALSE</td><td>FALSE</td><td>FALSE</td><td>FALSE</td><td>FALSE</td><td>FALSE</td><td>FALSE</td><td>FALSE</td></tr>\n",
       "</tbody>\n",
       "</table>\n"
      ],
      "text/latex": [
       "A matrix: 1000 × 10 of type lgl\n",
       "\\begin{tabular}{llllllllll}\n",
       " Daily.Time.Spent.on.Site & Age & Area.Income & Daily.Internet.Usage & Ad.Topic.Line & City & Male & Country & Timestamp & Clicked.on.Ad\\\\\n",
       "\\hline\n",
       "\t FALSE & FALSE & FALSE & FALSE & FALSE & FALSE & FALSE & FALSE & FALSE & FALSE\\\\\n",
       "\t FALSE & FALSE & FALSE & FALSE & FALSE & FALSE & FALSE & FALSE & FALSE & FALSE\\\\\n",
       "\t FALSE & FALSE & FALSE & FALSE & FALSE & FALSE & FALSE & FALSE & FALSE & FALSE\\\\\n",
       "\t FALSE & FALSE & FALSE & FALSE & FALSE & FALSE & FALSE & FALSE & FALSE & FALSE\\\\\n",
       "\t FALSE & FALSE & FALSE & FALSE & FALSE & FALSE & FALSE & FALSE & FALSE & FALSE\\\\\n",
       "\t FALSE & FALSE & FALSE & FALSE & FALSE & FALSE & FALSE & FALSE & FALSE & FALSE\\\\\n",
       "\t FALSE & FALSE & FALSE & FALSE & FALSE & FALSE & FALSE & FALSE & FALSE & FALSE\\\\\n",
       "\t FALSE & FALSE & FALSE & FALSE & FALSE & FALSE & FALSE & FALSE & FALSE & FALSE\\\\\n",
       "\t FALSE & FALSE & FALSE & FALSE & FALSE & FALSE & FALSE & FALSE & FALSE & FALSE\\\\\n",
       "\t FALSE & FALSE & FALSE & FALSE & FALSE & FALSE & FALSE & FALSE & FALSE & FALSE\\\\\n",
       "\t FALSE & FALSE & FALSE & FALSE & FALSE & FALSE & FALSE & FALSE & FALSE & FALSE\\\\\n",
       "\t FALSE & FALSE & FALSE & FALSE & FALSE & FALSE & FALSE & FALSE & FALSE & FALSE\\\\\n",
       "\t FALSE & FALSE & FALSE & FALSE & FALSE & FALSE & FALSE & FALSE & FALSE & FALSE\\\\\n",
       "\t FALSE & FALSE & FALSE & FALSE & FALSE & FALSE & FALSE & FALSE & FALSE & FALSE\\\\\n",
       "\t FALSE & FALSE & FALSE & FALSE & FALSE & FALSE & FALSE & FALSE & FALSE & FALSE\\\\\n",
       "\t FALSE & FALSE & FALSE & FALSE & FALSE & FALSE & FALSE & FALSE & FALSE & FALSE\\\\\n",
       "\t FALSE & FALSE & FALSE & FALSE & FALSE & FALSE & FALSE & FALSE & FALSE & FALSE\\\\\n",
       "\t FALSE & FALSE & FALSE & FALSE & FALSE & FALSE & FALSE & FALSE & FALSE & FALSE\\\\\n",
       "\t FALSE & FALSE & FALSE & FALSE & FALSE & FALSE & FALSE & FALSE & FALSE & FALSE\\\\\n",
       "\t FALSE & FALSE & FALSE & FALSE & FALSE & FALSE & FALSE & FALSE & FALSE & FALSE\\\\\n",
       "\t FALSE & FALSE & FALSE & FALSE & FALSE & FALSE & FALSE & FALSE & FALSE & FALSE\\\\\n",
       "\t FALSE & FALSE & FALSE & FALSE & FALSE & FALSE & FALSE & FALSE & FALSE & FALSE\\\\\n",
       "\t FALSE & FALSE & FALSE & FALSE & FALSE & FALSE & FALSE & FALSE & FALSE & FALSE\\\\\n",
       "\t FALSE & FALSE & FALSE & FALSE & FALSE & FALSE & FALSE & FALSE & FALSE & FALSE\\\\\n",
       "\t FALSE & FALSE & FALSE & FALSE & FALSE & FALSE & FALSE & FALSE & FALSE & FALSE\\\\\n",
       "\t FALSE & FALSE & FALSE & FALSE & FALSE & FALSE & FALSE & FALSE & FALSE & FALSE\\\\\n",
       "\t FALSE & FALSE & FALSE & FALSE & FALSE & FALSE & FALSE & FALSE & FALSE & FALSE\\\\\n",
       "\t FALSE & FALSE & FALSE & FALSE & FALSE & FALSE & FALSE & FALSE & FALSE & FALSE\\\\\n",
       "\t FALSE & FALSE & FALSE & FALSE & FALSE & FALSE & FALSE & FALSE & FALSE & FALSE\\\\\n",
       "\t FALSE & FALSE & FALSE & FALSE & FALSE & FALSE & FALSE & FALSE & FALSE & FALSE\\\\\n",
       "\t ⋮ & ⋮ & ⋮ & ⋮ & ⋮ & ⋮ & ⋮ & ⋮ & ⋮ & ⋮\\\\\n",
       "\t FALSE & FALSE & FALSE & FALSE & FALSE & FALSE & FALSE & FALSE & FALSE & FALSE\\\\\n",
       "\t FALSE & FALSE & FALSE & FALSE & FALSE & FALSE & FALSE & FALSE & FALSE & FALSE\\\\\n",
       "\t FALSE & FALSE & FALSE & FALSE & FALSE & FALSE & FALSE & FALSE & FALSE & FALSE\\\\\n",
       "\t FALSE & FALSE & FALSE & FALSE & FALSE & FALSE & FALSE & FALSE & FALSE & FALSE\\\\\n",
       "\t FALSE & FALSE & FALSE & FALSE & FALSE & FALSE & FALSE & FALSE & FALSE & FALSE\\\\\n",
       "\t FALSE & FALSE & FALSE & FALSE & FALSE & FALSE & FALSE & FALSE & FALSE & FALSE\\\\\n",
       "\t FALSE & FALSE & FALSE & FALSE & FALSE & FALSE & FALSE & FALSE & FALSE & FALSE\\\\\n",
       "\t FALSE & FALSE & FALSE & FALSE & FALSE & FALSE & FALSE & FALSE & FALSE & FALSE\\\\\n",
       "\t FALSE & FALSE & FALSE & FALSE & FALSE & FALSE & FALSE & FALSE & FALSE & FALSE\\\\\n",
       "\t FALSE & FALSE & FALSE & FALSE & FALSE & FALSE & FALSE & FALSE & FALSE & FALSE\\\\\n",
       "\t FALSE & FALSE & FALSE & FALSE & FALSE & FALSE & FALSE & FALSE & FALSE & FALSE\\\\\n",
       "\t FALSE & FALSE & FALSE & FALSE & FALSE & FALSE & FALSE & FALSE & FALSE & FALSE\\\\\n",
       "\t FALSE & FALSE & FALSE & FALSE & FALSE & FALSE & FALSE & FALSE & FALSE & FALSE\\\\\n",
       "\t FALSE & FALSE & FALSE & FALSE & FALSE & FALSE & FALSE & FALSE & FALSE & FALSE\\\\\n",
       "\t FALSE & FALSE & FALSE & FALSE & FALSE & FALSE & FALSE & FALSE & FALSE & FALSE\\\\\n",
       "\t FALSE & FALSE & FALSE & FALSE & FALSE & FALSE & FALSE & FALSE & FALSE & FALSE\\\\\n",
       "\t FALSE & FALSE & FALSE & FALSE & FALSE & FALSE & FALSE & FALSE & FALSE & FALSE\\\\\n",
       "\t FALSE & FALSE & FALSE & FALSE & FALSE & FALSE & FALSE & FALSE & FALSE & FALSE\\\\\n",
       "\t FALSE & FALSE & FALSE & FALSE & FALSE & FALSE & FALSE & FALSE & FALSE & FALSE\\\\\n",
       "\t FALSE & FALSE & FALSE & FALSE & FALSE & FALSE & FALSE & FALSE & FALSE & FALSE\\\\\n",
       "\t FALSE & FALSE & FALSE & FALSE & FALSE & FALSE & FALSE & FALSE & FALSE & FALSE\\\\\n",
       "\t FALSE & FALSE & FALSE & FALSE & FALSE & FALSE & FALSE & FALSE & FALSE & FALSE\\\\\n",
       "\t FALSE & FALSE & FALSE & FALSE & FALSE & FALSE & FALSE & FALSE & FALSE & FALSE\\\\\n",
       "\t FALSE & FALSE & FALSE & FALSE & FALSE & FALSE & FALSE & FALSE & FALSE & FALSE\\\\\n",
       "\t FALSE & FALSE & FALSE & FALSE & FALSE & FALSE & FALSE & FALSE & FALSE & FALSE\\\\\n",
       "\t FALSE & FALSE & FALSE & FALSE & FALSE & FALSE & FALSE & FALSE & FALSE & FALSE\\\\\n",
       "\t FALSE & FALSE & FALSE & FALSE & FALSE & FALSE & FALSE & FALSE & FALSE & FALSE\\\\\n",
       "\t FALSE & FALSE & FALSE & FALSE & FALSE & FALSE & FALSE & FALSE & FALSE & FALSE\\\\\n",
       "\t FALSE & FALSE & FALSE & FALSE & FALSE & FALSE & FALSE & FALSE & FALSE & FALSE\\\\\n",
       "\t FALSE & FALSE & FALSE & FALSE & FALSE & FALSE & FALSE & FALSE & FALSE & FALSE\\\\\n",
       "\\end{tabular}\n"
      ],
      "text/markdown": [
       "\n",
       "A matrix: 1000 × 10 of type lgl\n",
       "\n",
       "| Daily.Time.Spent.on.Site | Age | Area.Income | Daily.Internet.Usage | Ad.Topic.Line | City | Male | Country | Timestamp | Clicked.on.Ad |\n",
       "|---|---|---|---|---|---|---|---|---|---|\n",
       "| FALSE | FALSE | FALSE | FALSE | FALSE | FALSE | FALSE | FALSE | FALSE | FALSE |\n",
       "| FALSE | FALSE | FALSE | FALSE | FALSE | FALSE | FALSE | FALSE | FALSE | FALSE |\n",
       "| FALSE | FALSE | FALSE | FALSE | FALSE | FALSE | FALSE | FALSE | FALSE | FALSE |\n",
       "| FALSE | FALSE | FALSE | FALSE | FALSE | FALSE | FALSE | FALSE | FALSE | FALSE |\n",
       "| FALSE | FALSE | FALSE | FALSE | FALSE | FALSE | FALSE | FALSE | FALSE | FALSE |\n",
       "| FALSE | FALSE | FALSE | FALSE | FALSE | FALSE | FALSE | FALSE | FALSE | FALSE |\n",
       "| FALSE | FALSE | FALSE | FALSE | FALSE | FALSE | FALSE | FALSE | FALSE | FALSE |\n",
       "| FALSE | FALSE | FALSE | FALSE | FALSE | FALSE | FALSE | FALSE | FALSE | FALSE |\n",
       "| FALSE | FALSE | FALSE | FALSE | FALSE | FALSE | FALSE | FALSE | FALSE | FALSE |\n",
       "| FALSE | FALSE | FALSE | FALSE | FALSE | FALSE | FALSE | FALSE | FALSE | FALSE |\n",
       "| FALSE | FALSE | FALSE | FALSE | FALSE | FALSE | FALSE | FALSE | FALSE | FALSE |\n",
       "| FALSE | FALSE | FALSE | FALSE | FALSE | FALSE | FALSE | FALSE | FALSE | FALSE |\n",
       "| FALSE | FALSE | FALSE | FALSE | FALSE | FALSE | FALSE | FALSE | FALSE | FALSE |\n",
       "| FALSE | FALSE | FALSE | FALSE | FALSE | FALSE | FALSE | FALSE | FALSE | FALSE |\n",
       "| FALSE | FALSE | FALSE | FALSE | FALSE | FALSE | FALSE | FALSE | FALSE | FALSE |\n",
       "| FALSE | FALSE | FALSE | FALSE | FALSE | FALSE | FALSE | FALSE | FALSE | FALSE |\n",
       "| FALSE | FALSE | FALSE | FALSE | FALSE | FALSE | FALSE | FALSE | FALSE | FALSE |\n",
       "| FALSE | FALSE | FALSE | FALSE | FALSE | FALSE | FALSE | FALSE | FALSE | FALSE |\n",
       "| FALSE | FALSE | FALSE | FALSE | FALSE | FALSE | FALSE | FALSE | FALSE | FALSE |\n",
       "| FALSE | FALSE | FALSE | FALSE | FALSE | FALSE | FALSE | FALSE | FALSE | FALSE |\n",
       "| FALSE | FALSE | FALSE | FALSE | FALSE | FALSE | FALSE | FALSE | FALSE | FALSE |\n",
       "| FALSE | FALSE | FALSE | FALSE | FALSE | FALSE | FALSE | FALSE | FALSE | FALSE |\n",
       "| FALSE | FALSE | FALSE | FALSE | FALSE | FALSE | FALSE | FALSE | FALSE | FALSE |\n",
       "| FALSE | FALSE | FALSE | FALSE | FALSE | FALSE | FALSE | FALSE | FALSE | FALSE |\n",
       "| FALSE | FALSE | FALSE | FALSE | FALSE | FALSE | FALSE | FALSE | FALSE | FALSE |\n",
       "| FALSE | FALSE | FALSE | FALSE | FALSE | FALSE | FALSE | FALSE | FALSE | FALSE |\n",
       "| FALSE | FALSE | FALSE | FALSE | FALSE | FALSE | FALSE | FALSE | FALSE | FALSE |\n",
       "| FALSE | FALSE | FALSE | FALSE | FALSE | FALSE | FALSE | FALSE | FALSE | FALSE |\n",
       "| FALSE | FALSE | FALSE | FALSE | FALSE | FALSE | FALSE | FALSE | FALSE | FALSE |\n",
       "| FALSE | FALSE | FALSE | FALSE | FALSE | FALSE | FALSE | FALSE | FALSE | FALSE |\n",
       "| ⋮ | ⋮ | ⋮ | ⋮ | ⋮ | ⋮ | ⋮ | ⋮ | ⋮ | ⋮ |\n",
       "| FALSE | FALSE | FALSE | FALSE | FALSE | FALSE | FALSE | FALSE | FALSE | FALSE |\n",
       "| FALSE | FALSE | FALSE | FALSE | FALSE | FALSE | FALSE | FALSE | FALSE | FALSE |\n",
       "| FALSE | FALSE | FALSE | FALSE | FALSE | FALSE | FALSE | FALSE | FALSE | FALSE |\n",
       "| FALSE | FALSE | FALSE | FALSE | FALSE | FALSE | FALSE | FALSE | FALSE | FALSE |\n",
       "| FALSE | FALSE | FALSE | FALSE | FALSE | FALSE | FALSE | FALSE | FALSE | FALSE |\n",
       "| FALSE | FALSE | FALSE | FALSE | FALSE | FALSE | FALSE | FALSE | FALSE | FALSE |\n",
       "| FALSE | FALSE | FALSE | FALSE | FALSE | FALSE | FALSE | FALSE | FALSE | FALSE |\n",
       "| FALSE | FALSE | FALSE | FALSE | FALSE | FALSE | FALSE | FALSE | FALSE | FALSE |\n",
       "| FALSE | FALSE | FALSE | FALSE | FALSE | FALSE | FALSE | FALSE | FALSE | FALSE |\n",
       "| FALSE | FALSE | FALSE | FALSE | FALSE | FALSE | FALSE | FALSE | FALSE | FALSE |\n",
       "| FALSE | FALSE | FALSE | FALSE | FALSE | FALSE | FALSE | FALSE | FALSE | FALSE |\n",
       "| FALSE | FALSE | FALSE | FALSE | FALSE | FALSE | FALSE | FALSE | FALSE | FALSE |\n",
       "| FALSE | FALSE | FALSE | FALSE | FALSE | FALSE | FALSE | FALSE | FALSE | FALSE |\n",
       "| FALSE | FALSE | FALSE | FALSE | FALSE | FALSE | FALSE | FALSE | FALSE | FALSE |\n",
       "| FALSE | FALSE | FALSE | FALSE | FALSE | FALSE | FALSE | FALSE | FALSE | FALSE |\n",
       "| FALSE | FALSE | FALSE | FALSE | FALSE | FALSE | FALSE | FALSE | FALSE | FALSE |\n",
       "| FALSE | FALSE | FALSE | FALSE | FALSE | FALSE | FALSE | FALSE | FALSE | FALSE |\n",
       "| FALSE | FALSE | FALSE | FALSE | FALSE | FALSE | FALSE | FALSE | FALSE | FALSE |\n",
       "| FALSE | FALSE | FALSE | FALSE | FALSE | FALSE | FALSE | FALSE | FALSE | FALSE |\n",
       "| FALSE | FALSE | FALSE | FALSE | FALSE | FALSE | FALSE | FALSE | FALSE | FALSE |\n",
       "| FALSE | FALSE | FALSE | FALSE | FALSE | FALSE | FALSE | FALSE | FALSE | FALSE |\n",
       "| FALSE | FALSE | FALSE | FALSE | FALSE | FALSE | FALSE | FALSE | FALSE | FALSE |\n",
       "| FALSE | FALSE | FALSE | FALSE | FALSE | FALSE | FALSE | FALSE | FALSE | FALSE |\n",
       "| FALSE | FALSE | FALSE | FALSE | FALSE | FALSE | FALSE | FALSE | FALSE | FALSE |\n",
       "| FALSE | FALSE | FALSE | FALSE | FALSE | FALSE | FALSE | FALSE | FALSE | FALSE |\n",
       "| FALSE | FALSE | FALSE | FALSE | FALSE | FALSE | FALSE | FALSE | FALSE | FALSE |\n",
       "| FALSE | FALSE | FALSE | FALSE | FALSE | FALSE | FALSE | FALSE | FALSE | FALSE |\n",
       "| FALSE | FALSE | FALSE | FALSE | FALSE | FALSE | FALSE | FALSE | FALSE | FALSE |\n",
       "| FALSE | FALSE | FALSE | FALSE | FALSE | FALSE | FALSE | FALSE | FALSE | FALSE |\n",
       "| FALSE | FALSE | FALSE | FALSE | FALSE | FALSE | FALSE | FALSE | FALSE | FALSE |\n",
       "\n"
      ],
      "text/plain": [
       "      Daily.Time.Spent.on.Site Age   Area.Income Daily.Internet.Usage\n",
       " [1,] FALSE                    FALSE FALSE       FALSE               \n",
       " [2,] FALSE                    FALSE FALSE       FALSE               \n",
       " [3,] FALSE                    FALSE FALSE       FALSE               \n",
       " [4,] FALSE                    FALSE FALSE       FALSE               \n",
       " [5,] FALSE                    FALSE FALSE       FALSE               \n",
       " [6,] FALSE                    FALSE FALSE       FALSE               \n",
       " [7,] FALSE                    FALSE FALSE       FALSE               \n",
       " [8,] FALSE                    FALSE FALSE       FALSE               \n",
       " [9,] FALSE                    FALSE FALSE       FALSE               \n",
       "[10,] FALSE                    FALSE FALSE       FALSE               \n",
       "[11,] FALSE                    FALSE FALSE       FALSE               \n",
       "[12,] FALSE                    FALSE FALSE       FALSE               \n",
       "[13,] FALSE                    FALSE FALSE       FALSE               \n",
       "[14,] FALSE                    FALSE FALSE       FALSE               \n",
       "[15,] FALSE                    FALSE FALSE       FALSE               \n",
       "[16,] FALSE                    FALSE FALSE       FALSE               \n",
       "[17,] FALSE                    FALSE FALSE       FALSE               \n",
       "[18,] FALSE                    FALSE FALSE       FALSE               \n",
       "[19,] FALSE                    FALSE FALSE       FALSE               \n",
       "[20,] FALSE                    FALSE FALSE       FALSE               \n",
       "[21,] FALSE                    FALSE FALSE       FALSE               \n",
       "[22,] FALSE                    FALSE FALSE       FALSE               \n",
       "[23,] FALSE                    FALSE FALSE       FALSE               \n",
       "[24,] FALSE                    FALSE FALSE       FALSE               \n",
       "[25,] FALSE                    FALSE FALSE       FALSE               \n",
       "[26,] FALSE                    FALSE FALSE       FALSE               \n",
       "[27,] FALSE                    FALSE FALSE       FALSE               \n",
       "[28,] FALSE                    FALSE FALSE       FALSE               \n",
       "[29,] FALSE                    FALSE FALSE       FALSE               \n",
       "[30,] FALSE                    FALSE FALSE       FALSE               \n",
       "[31,] ⋮                        ⋮     ⋮           ⋮                   \n",
       "[32,] FALSE                    FALSE FALSE       FALSE               \n",
       "[33,] FALSE                    FALSE FALSE       FALSE               \n",
       "[34,] FALSE                    FALSE FALSE       FALSE               \n",
       "[35,] FALSE                    FALSE FALSE       FALSE               \n",
       "[36,] FALSE                    FALSE FALSE       FALSE               \n",
       "[37,] FALSE                    FALSE FALSE       FALSE               \n",
       "[38,] FALSE                    FALSE FALSE       FALSE               \n",
       "[39,] FALSE                    FALSE FALSE       FALSE               \n",
       "[40,] FALSE                    FALSE FALSE       FALSE               \n",
       "[41,] FALSE                    FALSE FALSE       FALSE               \n",
       "[42,] FALSE                    FALSE FALSE       FALSE               \n",
       "[43,] FALSE                    FALSE FALSE       FALSE               \n",
       "[44,] FALSE                    FALSE FALSE       FALSE               \n",
       "[45,] FALSE                    FALSE FALSE       FALSE               \n",
       "[46,] FALSE                    FALSE FALSE       FALSE               \n",
       "[47,] FALSE                    FALSE FALSE       FALSE               \n",
       "[48,] FALSE                    FALSE FALSE       FALSE               \n",
       "[49,] FALSE                    FALSE FALSE       FALSE               \n",
       "[50,] FALSE                    FALSE FALSE       FALSE               \n",
       "[51,] FALSE                    FALSE FALSE       FALSE               \n",
       "[52,] FALSE                    FALSE FALSE       FALSE               \n",
       "[53,] FALSE                    FALSE FALSE       FALSE               \n",
       "[54,] FALSE                    FALSE FALSE       FALSE               \n",
       "[55,] FALSE                    FALSE FALSE       FALSE               \n",
       "[56,] FALSE                    FALSE FALSE       FALSE               \n",
       "[57,] FALSE                    FALSE FALSE       FALSE               \n",
       "[58,] FALSE                    FALSE FALSE       FALSE               \n",
       "[59,] FALSE                    FALSE FALSE       FALSE               \n",
       "[60,] FALSE                    FALSE FALSE       FALSE               \n",
       "[61,] FALSE                    FALSE FALSE       FALSE               \n",
       "      Ad.Topic.Line City  Male  Country Timestamp Clicked.on.Ad\n",
       " [1,] FALSE         FALSE FALSE FALSE   FALSE     FALSE        \n",
       " [2,] FALSE         FALSE FALSE FALSE   FALSE     FALSE        \n",
       " [3,] FALSE         FALSE FALSE FALSE   FALSE     FALSE        \n",
       " [4,] FALSE         FALSE FALSE FALSE   FALSE     FALSE        \n",
       " [5,] FALSE         FALSE FALSE FALSE   FALSE     FALSE        \n",
       " [6,] FALSE         FALSE FALSE FALSE   FALSE     FALSE        \n",
       " [7,] FALSE         FALSE FALSE FALSE   FALSE     FALSE        \n",
       " [8,] FALSE         FALSE FALSE FALSE   FALSE     FALSE        \n",
       " [9,] FALSE         FALSE FALSE FALSE   FALSE     FALSE        \n",
       "[10,] FALSE         FALSE FALSE FALSE   FALSE     FALSE        \n",
       "[11,] FALSE         FALSE FALSE FALSE   FALSE     FALSE        \n",
       "[12,] FALSE         FALSE FALSE FALSE   FALSE     FALSE        \n",
       "[13,] FALSE         FALSE FALSE FALSE   FALSE     FALSE        \n",
       "[14,] FALSE         FALSE FALSE FALSE   FALSE     FALSE        \n",
       "[15,] FALSE         FALSE FALSE FALSE   FALSE     FALSE        \n",
       "[16,] FALSE         FALSE FALSE FALSE   FALSE     FALSE        \n",
       "[17,] FALSE         FALSE FALSE FALSE   FALSE     FALSE        \n",
       "[18,] FALSE         FALSE FALSE FALSE   FALSE     FALSE        \n",
       "[19,] FALSE         FALSE FALSE FALSE   FALSE     FALSE        \n",
       "[20,] FALSE         FALSE FALSE FALSE   FALSE     FALSE        \n",
       "[21,] FALSE         FALSE FALSE FALSE   FALSE     FALSE        \n",
       "[22,] FALSE         FALSE FALSE FALSE   FALSE     FALSE        \n",
       "[23,] FALSE         FALSE FALSE FALSE   FALSE     FALSE        \n",
       "[24,] FALSE         FALSE FALSE FALSE   FALSE     FALSE        \n",
       "[25,] FALSE         FALSE FALSE FALSE   FALSE     FALSE        \n",
       "[26,] FALSE         FALSE FALSE FALSE   FALSE     FALSE        \n",
       "[27,] FALSE         FALSE FALSE FALSE   FALSE     FALSE        \n",
       "[28,] FALSE         FALSE FALSE FALSE   FALSE     FALSE        \n",
       "[29,] FALSE         FALSE FALSE FALSE   FALSE     FALSE        \n",
       "[30,] FALSE         FALSE FALSE FALSE   FALSE     FALSE        \n",
       "[31,] ⋮             ⋮     ⋮     ⋮       ⋮         ⋮            \n",
       "[32,] FALSE         FALSE FALSE FALSE   FALSE     FALSE        \n",
       "[33,] FALSE         FALSE FALSE FALSE   FALSE     FALSE        \n",
       "[34,] FALSE         FALSE FALSE FALSE   FALSE     FALSE        \n",
       "[35,] FALSE         FALSE FALSE FALSE   FALSE     FALSE        \n",
       "[36,] FALSE         FALSE FALSE FALSE   FALSE     FALSE        \n",
       "[37,] FALSE         FALSE FALSE FALSE   FALSE     FALSE        \n",
       "[38,] FALSE         FALSE FALSE FALSE   FALSE     FALSE        \n",
       "[39,] FALSE         FALSE FALSE FALSE   FALSE     FALSE        \n",
       "[40,] FALSE         FALSE FALSE FALSE   FALSE     FALSE        \n",
       "[41,] FALSE         FALSE FALSE FALSE   FALSE     FALSE        \n",
       "[42,] FALSE         FALSE FALSE FALSE   FALSE     FALSE        \n",
       "[43,] FALSE         FALSE FALSE FALSE   FALSE     FALSE        \n",
       "[44,] FALSE         FALSE FALSE FALSE   FALSE     FALSE        \n",
       "[45,] FALSE         FALSE FALSE FALSE   FALSE     FALSE        \n",
       "[46,] FALSE         FALSE FALSE FALSE   FALSE     FALSE        \n",
       "[47,] FALSE         FALSE FALSE FALSE   FALSE     FALSE        \n",
       "[48,] FALSE         FALSE FALSE FALSE   FALSE     FALSE        \n",
       "[49,] FALSE         FALSE FALSE FALSE   FALSE     FALSE        \n",
       "[50,] FALSE         FALSE FALSE FALSE   FALSE     FALSE        \n",
       "[51,] FALSE         FALSE FALSE FALSE   FALSE     FALSE        \n",
       "[52,] FALSE         FALSE FALSE FALSE   FALSE     FALSE        \n",
       "[53,] FALSE         FALSE FALSE FALSE   FALSE     FALSE        \n",
       "[54,] FALSE         FALSE FALSE FALSE   FALSE     FALSE        \n",
       "[55,] FALSE         FALSE FALSE FALSE   FALSE     FALSE        \n",
       "[56,] FALSE         FALSE FALSE FALSE   FALSE     FALSE        \n",
       "[57,] FALSE         FALSE FALSE FALSE   FALSE     FALSE        \n",
       "[58,] FALSE         FALSE FALSE FALSE   FALSE     FALSE        \n",
       "[59,] FALSE         FALSE FALSE FALSE   FALSE     FALSE        \n",
       "[60,] FALSE         FALSE FALSE FALSE   FALSE     FALSE        \n",
       "[61,] FALSE         FALSE FALSE FALSE   FALSE     FALSE        "
      ]
     },
     "metadata": {},
     "output_type": "display_data"
    }
   ],
   "source": [
    "## Cleaning our data\n",
    "\n",
    "# Checking for missing values\n",
    "# identifying missing data\n",
    "\n",
    "is.na(ads)"
   ]
  },
  {
   "cell_type": "code",
   "execution_count": 5,
   "metadata": {
    "lines_to_next_cell": 0
   },
   "outputs": [
    {
     "data": {
      "text/html": [
       "<style>\n",
       ".dl-inline {width: auto; margin:0; padding: 0}\n",
       ".dl-inline>dt, .dl-inline>dd {float: none; width: auto; display: inline-block}\n",
       ".dl-inline>dt::after {content: \":\\0020\"; padding-right: .5ex}\n",
       ".dl-inline>dt:not(:first-of-type) {padding-left: .5ex}\n",
       "</style><dl class=dl-inline><dt>Daily.Time.Spent.on.Site</dt><dd>0</dd><dt>Age</dt><dd>0</dd><dt>Area.Income</dt><dd>0</dd><dt>Daily.Internet.Usage</dt><dd>0</dd><dt>Ad.Topic.Line</dt><dd>0</dd><dt>City</dt><dd>0</dd><dt>Male</dt><dd>0</dd><dt>Country</dt><dd>0</dd><dt>Timestamp</dt><dd>0</dd><dt>Clicked.on.Ad</dt><dd>0</dd></dl>\n"
      ],
      "text/latex": [
       "\\begin{description*}\n",
       "\\item[Daily.Time.Spent.on.Site] 0\n",
       "\\item[Age] 0\n",
       "\\item[Area.Income] 0\n",
       "\\item[Daily.Internet.Usage] 0\n",
       "\\item[Ad.Topic.Line] 0\n",
       "\\item[City] 0\n",
       "\\item[Male] 0\n",
       "\\item[Country] 0\n",
       "\\item[Timestamp] 0\n",
       "\\item[Clicked.on.Ad] 0\n",
       "\\end{description*}\n"
      ],
      "text/markdown": [
       "Daily.Time.Spent.on.Site\n",
       ":   0Age\n",
       ":   0Area.Income\n",
       ":   0Daily.Internet.Usage\n",
       ":   0Ad.Topic.Line\n",
       ":   0City\n",
       ":   0Male\n",
       ":   0Country\n",
       ":   0Timestamp\n",
       ":   0Clicked.on.Ad\n",
       ":   0\n",
       "\n"
      ],
      "text/plain": [
       "Daily.Time.Spent.on.Site                      Age              Area.Income \n",
       "                       0                        0                        0 \n",
       "    Daily.Internet.Usage            Ad.Topic.Line                     City \n",
       "                       0                        0                        0 \n",
       "                    Male                  Country                Timestamp \n",
       "                       0                        0                        0 \n",
       "           Clicked.on.Ad \n",
       "                       0 "
      ]
     },
     "metadata": {},
     "output_type": "display_data"
    }
   ],
   "source": [
    "# checking for total missing values\n",
    "\n",
    "colSums(is.na(ads))"
   ]
  },
  {
   "cell_type": "code",
   "execution_count": 6,
   "metadata": {
    "lines_to_next_cell": 2
   },
   "outputs": [
    {
     "data": {
      "image/png": "[encoded data removed]",
      "text/plain": [
       "plot without title"
      ]
     },
     "metadata": {
      "image/png": {
       "height": 420,
       "width": 420
      },
      "text/plain": {
       "height": 420,
       "width": 420
      }
     },
     "output_type": "display_data"
    }
   ],
   "source": [
    "# visuals for missing data\n",
    "\n",
    "library(DataExplorer)\n",
    "plot_missing(ads)"
   ]
  },
  {
   "cell_type": "markdown",
   "metadata": {},
   "source": [
    "We can see that we dont have missing values in our data. So there will be no need for cleaning on missing values"
   ]
  },
  {
   "cell_type": "code",
   "execution_count": 7,
   "metadata": {
    "lines_to_next_cell": 0
   },
   "outputs": [
    {
     "data": {
      "text/html": [
       "<table>\n",
       "<caption>A data.frame: 0 × 10</caption>\n",
       "<thead>\n",
       "\t<tr><th scope=col>Daily.Time.Spent.on.Site</th><th scope=col>Age</th><th scope=col>Area.Income</th><th scope=col>Daily.Internet.Usage</th><th scope=col>Ad.Topic.Line</th><th scope=col>City</th><th scope=col>Male</th><th scope=col>Country</th><th scope=col>Timestamp</th><th scope=col>Clicked.on.Ad</th></tr>\n",
       "\t<tr><th scope=col>&lt;dbl&gt;</th><th scope=col>&lt;int&gt;</th><th scope=col>&lt;dbl&gt;</th><th scope=col>&lt;dbl&gt;</th><th scope=col>&lt;fct&gt;</th><th scope=col>&lt;fct&gt;</th><th scope=col>&lt;int&gt;</th><th scope=col>&lt;fct&gt;</th><th scope=col>&lt;fct&gt;</th><th scope=col>&lt;int&gt;</th></tr>\n",
       "</thead>\n",
       "<tbody>\n",
       "</tbody>\n",
       "</table>\n"
      ],
      "text/latex": [
       "A data.frame: 0 × 10\n",
       "\\begin{tabular}{llllllllll}\n",
       " Daily.Time.Spent.on.Site & Age & Area.Income & Daily.Internet.Usage & Ad.Topic.Line & City & Male & Country & Timestamp & Clicked.on.Ad\\\\\n",
       " <dbl> & <int> & <dbl> & <dbl> & <fct> & <fct> & <int> & <fct> & <fct> & <int>\\\\\n",
       "\\hline\n",
       "\\end{tabular}\n"
      ],
      "text/markdown": [
       "\n",
       "A data.frame: 0 × 10\n",
       "\n",
       "| Daily.Time.Spent.on.Site &lt;dbl&gt; | Age &lt;int&gt; | Area.Income &lt;dbl&gt; | Daily.Internet.Usage &lt;dbl&gt; | Ad.Topic.Line &lt;fct&gt; | City &lt;fct&gt; | Male &lt;int&gt; | Country &lt;fct&gt; | Timestamp &lt;fct&gt; | Clicked.on.Ad &lt;int&gt; |\n",
       "|---|---|---|---|---|---|---|---|---|---|\n",
       "\n"
      ],
      "text/plain": [
       "     Daily.Time.Spent.on.Site Age Area.Income Daily.Internet.Usage\n",
       "     Ad.Topic.Line City Male Country Timestamp Clicked.on.Ad"
      ]
     },
     "metadata": {},
     "output_type": "display_data"
    },
    {
     "data": {
      "text/html": [
       "0"
      ],
      "text/latex": [
       "0"
      ],
      "text/markdown": [
       "0"
      ],
      "text/plain": [
       "[1] 0"
      ]
     },
     "metadata": {},
     "output_type": "display_data"
    }
   ],
   "source": [
    "# Checking for duplicated data\n",
    "\n",
    "duplicated_ads <- ads[duplicated(ads),]\n",
    "\n",
    "duplicated_ads\n",
    "\n",
    "anyDuplicated(ads)\n"
   ]
  },
  {
   "cell_type": "markdown",
   "metadata": {},
   "source": [
    "There are no duplicated values in our dataest"
   ]
  },
  {
   "cell_type": "code",
   "execution_count": 8,
   "metadata": {},
   "outputs": [],
   "source": [
    "# changing the column name male to gender\n",
    "\n",
    "colnames(ads)[colnames(ads) == 'Male'] = 'Gender'"
   ]
  },
  {
   "cell_type": "code",
   "execution_count": 9,
   "metadata": {
    "lines_to_next_cell": 2
   },
   "outputs": [],
   "source": [
    "levels(ads$Gender) = c('Female' , 'Male')"
   ]
  },
  {
   "cell_type": "code",
   "execution_count": 10,
   "metadata": {
    "lines_to_next_cell": 0
   },
   "outputs": [
    {
     "data": {
      "image/png": "[encoded data removed]",
      "text/plain": [
       "plot without title"
      ]
     },
     "metadata": {
      "image/png": {
       "height": 420,
       "width": 420
      },
      "text/plain": {
       "height": 420,
       "width": 420
      }
     },
     "output_type": "display_data"
    }
   ],
   "source": [
    "\n",
    "## Checking for outliers\n",
    "\n",
    "# Plot a boxplot to help us visualise any existing outliers \n",
    "\n",
    "boxplot(ads)\n",
    "\n"
   ]
  },
  {
   "cell_type": "markdown",
   "metadata": {},
   "source": [
    "We can note that there are outliers in the column area income. Lets go ahead and list the outliers below."
   ]
  },
  {
   "cell_type": "code",
   "execution_count": 11,
   "metadata": {},
   "outputs": [
    {
     "data": {
      "text/html": [
       "<style>\n",
       ".list-inline {list-style: none; margin:0; padding: 0}\n",
       ".list-inline>li {display: inline-block}\n",
       ".list-inline>li:not(:last-child)::after {content: \"\\00b7\"; padding: 0 .5ex}\n",
       "</style>\n",
       "<ol class=list-inline><li>17709.98</li><li>18819.34</li><li>15598.29</li><li>15879.1</li><li>14548.06</li><li>13996.5</li><li>14775.5</li><li>18368.57</li></ol>\n"
      ],
      "text/latex": [
       "\\begin{enumerate*}\n",
       "\\item 17709.98\n",
       "\\item 18819.34\n",
       "\\item 15598.29\n",
       "\\item 15879.1\n",
       "\\item 14548.06\n",
       "\\item 13996.5\n",
       "\\item 14775.5\n",
       "\\item 18368.57\n",
       "\\end{enumerate*}\n"
      ],
      "text/markdown": [
       "1. 17709.98\n",
       "2. 18819.34\n",
       "3. 15598.29\n",
       "4. 15879.1\n",
       "5. 14548.06\n",
       "6. 13996.5\n",
       "7. 14775.5\n",
       "8. 18368.57\n",
       "\n",
       "\n"
      ],
      "text/plain": [
       "[1] 17709.98 18819.34 15598.29 15879.10 14548.06 13996.50 14775.50 18368.57"
      ]
     },
     "metadata": {},
     "output_type": "display_data"
    }
   ],
   "source": [
    "# listing the outliers in the vectors\n",
    "\n",
    "boxplot.stats(ads$Area.Income)$out\n"
   ]
  },
  {
   "cell_type": "code",
   "execution_count": 12,
   "metadata": {
    "lines_to_next_cell": 2
   },
   "outputs": [
    {
     "data": {
      "image/png": "[encoded data removed]",
      "text/plain": [
       "Plot with title “Area Income Boxplot”"
      ]
     },
     "metadata": {
      "image/png": {
       "height": 420,
       "width": 420
      },
      "text/plain": {
       "height": 420,
       "width": 420
      }
     },
     "output_type": "display_data"
    }
   ],
   "source": [
    "# plotting a boxplot for the area income outliers\n",
    "\n",
    "boxplot(ads$Area.Income,\n",
    "main = \"Area Income Boxplot\",\n",
    "xlab = \"income Area\",\n",
    "col = \"orange\",\n",
    "border = \"brown\",\n",
    "horizontal = TRUE,\n",
    "notch = TRUE\n",
    ")"
   ]
  },
  {
   "cell_type": "code",
   "execution_count": 13,
   "metadata": {},
   "outputs": [
    {
     "data": {
      "image/png": "[encoded data removed]",
      "text/plain": [
       "plot without title"
      ]
     },
     "metadata": {
      "image/png": {
       "height": 420,
       "width": 420
      },
      "text/plain": {
       "height": 420,
       "width": 420
      }
     },
     "output_type": "display_data"
    }
   ],
   "source": [
    "# Handling the outliers in the area income variable.\n",
    "# we store the outliers in a variable outliers.\n",
    "\n",
    "outliers = boxplot.stats(ads$Area.Income)$out\n",
    "\n",
    "# This vector is to be excluded from our dataset\n",
    "# The which() function tells us the rows in which the outliers exist,\n",
    "# These rows will be removed from our data set.\n",
    "# The dataset advertising will be stored in a new variable so as not to destroy dataset\n",
    "\n",
    "new_ads = ads\n",
    "new_ads = new_ads[-which(new_ads$Area.Income %in% outliers),]\n",
    "\n",
    "# Checking if the new data frame has outliers.\n",
    "#\n",
    "boxplot(new_ads $ Area.Income)"
   ]
  },
  {
   "cell_type": "markdown",
   "metadata": {},
   "source": [
    "The outliers have been deleted. "
   ]
  },
  {
   "cell_type": "markdown",
   "metadata": {},
   "source": [
    "EDA\n",
    "\n",
    "# univariate Analysis\n",
    "\n",
    "# Measures of central tendency\n",
    "# getting the mean"
   ]
  },
  {
   "cell_type": "code",
   "execution_count": 14,
   "metadata": {
    "lines_to_next_cell": 2
   },
   "outputs": [
    {
     "data": {
      "text/html": [
       "65.0397883064516"
      ],
      "text/latex": [
       "65.0397883064516"
      ],
      "text/markdown": [
       "65.0397883064516"
      ],
      "text/plain": [
       "[1] 65.03979"
      ]
     },
     "metadata": {},
     "output_type": "display_data"
    },
    {
     "data": {
      "text/html": [
       "35.9828629032258"
      ],
      "text/latex": [
       "35.9828629032258"
      ],
      "text/markdown": [
       "35.9828629032258"
      ],
      "text/plain": [
       "[1] 35.98286"
      ]
     },
     "metadata": {},
     "output_type": "display_data"
    },
    {
     "data": {
      "text/html": [
       "55312.8071975806"
      ],
      "text/latex": [
       "55312.8071975806"
      ],
      "text/markdown": [
       "55312.8071975806"
      ],
      "text/plain": [
       "[1] 55312.81"
      ]
     },
     "metadata": {},
     "output_type": "display_data"
    },
    {
     "data": {
      "text/html": [
       "179.985040322581"
      ],
      "text/latex": [
       "179.985040322581"
      ],
      "text/markdown": [
       "179.985040322581"
      ],
      "text/plain": [
       "[1] 179.985"
      ]
     },
     "metadata": {},
     "output_type": "display_data"
    }
   ],
   "source": [
    "# getting the mean for the numerical columns\n",
    "\n",
    "# Daily.Time.Spent\n",
    "ads.mean <- mean(new_ads$Daily.Time.Spent.on.Site)\n",
    "ads.mean\n",
    "## the daily time spent mean is 65.03979 \n",
    "\n",
    "# Age\n",
    "ads.mean <- mean(new_ads$Age)\n",
    "ads.mean\n",
    "## the age mean is 35.98286\n",
    "\n",
    "# Areas.Income\n",
    "ads.mean <- mean(new_ads$Area.Income)\n",
    "ads.mean\n",
    "## the areas income mean is 55312.81\n",
    "\n",
    "# Daily.Internet\n",
    "ads.mean <- mean(new_ads$Daily.Internet.Usage)\n",
    "ads.mean\n",
    "## the daily internet mean is 179.985\n",
    "\n"
   ]
  },
  {
   "cell_type": "code",
   "execution_count": 15,
   "metadata": {},
   "outputs": [
    {
     "data": {
      "text/html": [
       "68.39"
      ],
      "text/latex": [
       "68.39"
      ],
      "text/markdown": [
       "68.39"
      ],
      "text/plain": [
       "[1] 68.39"
      ]
     },
     "metadata": {},
     "output_type": "display_data"
    },
    {
     "data": {
      "text/html": [
       "35"
      ],
      "text/latex": [
       "35"
      ],
      "text/markdown": [
       "35"
      ],
      "text/plain": [
       "[1] 35"
      ]
     },
     "metadata": {},
     "output_type": "display_data"
    },
    {
     "data": {
      "text/html": [
       "57228.185"
      ],
      "text/latex": [
       "57228.185"
      ],
      "text/markdown": [
       "57228.185"
      ],
      "text/plain": [
       "[1] 57228.18"
      ]
     },
     "metadata": {},
     "output_type": "display_data"
    },
    {
     "data": {
      "text/html": [
       "183.425"
      ],
      "text/latex": [
       "183.425"
      ],
      "text/markdown": [
       "183.425"
      ],
      "text/plain": [
       "[1] 183.425"
      ]
     },
     "metadata": {},
     "output_type": "display_data"
    }
   ],
   "source": [
    "# getting the median for the numerical columns\n",
    "\n",
    "# Daily.Time.Spent\n",
    "ads.median <- median(new_ads$Daily.Time.Spent.on.Site)\n",
    "ads.median\n",
    "## the daily time spent median is 68.39 \n",
    "\n",
    "# Age\n",
    "ads.median <- median(new_ads$Age)\n",
    "ads.median\n",
    "## the age median is 35 \n",
    "\n",
    "# Areas.Income\n",
    "ads.median <- median(new_ads$Area.Income)\n",
    "ads.median\n",
    "## the areas income median is 57228.18 \n",
    "\n",
    "# Daily.Internet\n",
    "ads.median <- median(new_ads$Daily.Internet.Usage)\n",
    "ads.median\n",
    "## the daily internet median is 183.425"
   ]
  },
  {
   "cell_type": "code",
   "execution_count": 16,
   "metadata": {},
   "outputs": [
    {
     "data": {
      "text/html": [
       "62.26"
      ],
      "text/latex": [
       "62.26"
      ],
      "text/markdown": [
       "62.26"
      ],
      "text/plain": [
       "[1] 62.26"
      ]
     },
     "metadata": {},
     "output_type": "display_data"
    },
    {
     "data": {
      "text/html": [
       "31"
      ],
      "text/latex": [
       "31"
      ],
      "text/markdown": [
       "31"
      ],
      "text/plain": [
       "[1] 31"
      ]
     },
     "metadata": {},
     "output_type": "display_data"
    },
    {
     "data": {
      "text/html": [
       "61833.9"
      ],
      "text/latex": [
       "61833.9"
      ],
      "text/markdown": [
       "61833.9"
      ],
      "text/plain": [
       "[1] 61833.9"
      ]
     },
     "metadata": {},
     "output_type": "display_data"
    },
    {
     "data": {
      "text/html": [
       "167.22"
      ],
      "text/latex": [
       "167.22"
      ],
      "text/markdown": [
       "167.22"
      ],
      "text/plain": [
       "[1] 167.22"
      ]
     },
     "metadata": {},
     "output_type": "display_data"
    }
   ],
   "source": [
    "# creating a function that perform the mode operation\n",
    "\n",
    "getmode <- function(v) {\n",
    "   uniqv <- unique(v)\n",
    "   uniqv[which.max(tabulate(match(v, uniqv)))]\n",
    "}\n",
    "\n",
    "# getting the median for the numerical columns\n",
    "\n",
    "# Daily.Time.Spent\n",
    "ads.mode <- getmode(new_ads$Daily.Time.Spent.on.Site)\n",
    "ads.mode\n",
    "## the daily time spent mode is 62.26\n",
    "\n",
    "# Age\n",
    "ads.mode <- getmode(new_ads$Age)\n",
    "ads.mode\n",
    "## the age mode is 31 \n",
    "\n",
    "# Areas.Income\n",
    "ads.mode <- getmode(new_ads$Area.Income)\n",
    "ads.mode\n",
    "## the areas income mode is 61833.9\n",
    "\n",
    "# Daily.Internet\n",
    "ads.mode <- getmode(new_ads$Daily.Internet.Usage)\n",
    "ads.mode\n",
    "## the daily internet mode is 167.22"
   ]
  },
  {
   "cell_type": "code",
   "execution_count": 17,
   "metadata": {
    "lines_to_next_cell": 0
   },
   "outputs": [
    {
     "data": {
      "text/html": [
       "<style>\n",
       ".list-inline {list-style: none; margin:0; padding: 0}\n",
       ".list-inline>li {display: inline-block}\n",
       ".list-inline>li:not(:last-child)::after {content: \"\\00b7\"; padding: 0 .5ex}\n",
       "</style>\n",
       "<ol class=list-inline><li>32.6</li><li>91.43</li></ol>\n"
      ],
      "text/latex": [
       "\\begin{enumerate*}\n",
       "\\item 32.6\n",
       "\\item 91.43\n",
       "\\end{enumerate*}\n"
      ],
      "text/markdown": [
       "1. 32.6\n",
       "2. 91.43\n",
       "\n",
       "\n"
      ],
      "text/plain": [
       "[1] 32.60 91.43"
      ]
     },
     "metadata": {},
     "output_type": "display_data"
    },
    {
     "data": {
      "text/html": [
       "<style>\n",
       ".list-inline {list-style: none; margin:0; padding: 0}\n",
       ".list-inline>li {display: inline-block}\n",
       ".list-inline>li:not(:last-child)::after {content: \"\\00b7\"; padding: 0 .5ex}\n",
       "</style>\n",
       "<ol class=list-inline><li>19</li><li>61</li></ol>\n"
      ],
      "text/latex": [
       "\\begin{enumerate*}\n",
       "\\item 19\n",
       "\\item 61\n",
       "\\end{enumerate*}\n"
      ],
      "text/markdown": [
       "1. 19\n",
       "2. 61\n",
       "\n",
       "\n"
      ],
      "text/plain": [
       "[1] 19 61"
      ]
     },
     "metadata": {},
     "output_type": "display_data"
    },
    {
     "data": {
      "text/html": [
       "<style>\n",
       ".list-inline {list-style: none; margin:0; padding: 0}\n",
       ".list-inline>li {display: inline-block}\n",
       ".list-inline>li:not(:last-child)::after {content: \"\\00b7\"; padding: 0 .5ex}\n",
       "</style>\n",
       "<ol class=list-inline><li>19345.36</li><li>79484.8</li></ol>\n"
      ],
      "text/latex": [
       "\\begin{enumerate*}\n",
       "\\item 19345.36\n",
       "\\item 79484.8\n",
       "\\end{enumerate*}\n"
      ],
      "text/markdown": [
       "1. 19345.36\n",
       "2. 79484.8\n",
       "\n",
       "\n"
      ],
      "text/plain": [
       "[1] 19345.36 79484.80"
      ]
     },
     "metadata": {},
     "output_type": "display_data"
    },
    {
     "data": {
      "text/html": [
       "<style>\n",
       ".list-inline {list-style: none; margin:0; padding: 0}\n",
       ".list-inline>li {display: inline-block}\n",
       ".list-inline>li:not(:last-child)::after {content: \"\\00b7\"; padding: 0 .5ex}\n",
       "</style>\n",
       "<ol class=list-inline><li>104.78</li><li>269.96</li></ol>\n"
      ],
      "text/latex": [
       "\\begin{enumerate*}\n",
       "\\item 104.78\n",
       "\\item 269.96\n",
       "\\end{enumerate*}\n"
      ],
      "text/markdown": [
       "1. 104.78\n",
       "2. 269.96\n",
       "\n",
       "\n"
      ],
      "text/plain": [
       "[1] 104.78 269.96"
      ]
     },
     "metadata": {},
     "output_type": "display_data"
    }
   ],
   "source": [
    "# getting the range for the numerical columns\n",
    "\n",
    "# Daily.Time.Spent\n",
    "ads.range <- range(new_ads$Daily.Time.Spent.on.Site)\n",
    "ads.range\n",
    "## the daily time spent ranges between 32.60 and 91.43\n",
    "\n",
    "# Age\n",
    "ads.range <- range(new_ads$Age)\n",
    "ads.range\n",
    "## the age ranges between 19 and 61\n",
    "\n",
    "# Areas.Income\n",
    "ads.range <- range(new_ads$Area.Income)\n",
    "ads.range\n",
    "## the areas income ranges between 19345.36 and 79484.80\n",
    "\n",
    "# Daily.Internet\n",
    "ads.range <- range(new_ads$Daily.Internet.Usage)\n",
    "ads.range\n",
    "## the daily internet ranges between 104.78 and 269.96"
   ]
  },
  {
   "cell_type": "code",
   "execution_count": 18,
   "metadata": {},
   "outputs": [
    {
     "data": {
      "text/html": [
       "<style>\n",
       ".dl-inline {width: auto; margin:0; padding: 0}\n",
       ".dl-inline>dt, .dl-inline>dd {float: none; width: auto; display: inline-block}\n",
       ".dl-inline>dt::after {content: \":\\0020\"; padding-right: .5ex}\n",
       ".dl-inline>dt:not(:first-of-type) {padding-left: .5ex}\n",
       "</style><dl class=dl-inline><dt>0%</dt><dd>32.6</dd><dt>25%</dt><dd>51.285</dd><dt>50%</dt><dd>68.39</dd><dt>75%</dt><dd>78.585</dd><dt>100%</dt><dd>91.43</dd></dl>\n"
      ],
      "text/latex": [
       "\\begin{description*}\n",
       "\\item[0\\textbackslash{}\\%] 32.6\n",
       "\\item[25\\textbackslash{}\\%] 51.285\n",
       "\\item[50\\textbackslash{}\\%] 68.39\n",
       "\\item[75\\textbackslash{}\\%] 78.585\n",
       "\\item[100\\textbackslash{}\\%] 91.43\n",
       "\\end{description*}\n"
      ],
      "text/markdown": [
       "0%\n",
       ":   32.625%\n",
       ":   51.28550%\n",
       ":   68.3975%\n",
       ":   78.585100%\n",
       ":   91.43\n",
       "\n"
      ],
      "text/plain": [
       "    0%    25%    50%    75%   100% \n",
       "32.600 51.285 68.390 78.585 91.430 "
      ]
     },
     "metadata": {},
     "output_type": "display_data"
    },
    {
     "data": {
      "text/html": [
       "<style>\n",
       ".dl-inline {width: auto; margin:0; padding: 0}\n",
       ".dl-inline>dt, .dl-inline>dd {float: none; width: auto; display: inline-block}\n",
       ".dl-inline>dt::after {content: \":\\0020\"; padding-right: .5ex}\n",
       ".dl-inline>dt:not(:first-of-type) {padding-left: .5ex}\n",
       "</style><dl class=dl-inline><dt>0%</dt><dd>19</dd><dt>25%</dt><dd>29</dd><dt>50%</dt><dd>35</dd><dt>75%</dt><dd>42</dd><dt>100%</dt><dd>61</dd></dl>\n"
      ],
      "text/latex": [
       "\\begin{description*}\n",
       "\\item[0\\textbackslash{}\\%] 19\n",
       "\\item[25\\textbackslash{}\\%] 29\n",
       "\\item[50\\textbackslash{}\\%] 35\n",
       "\\item[75\\textbackslash{}\\%] 42\n",
       "\\item[100\\textbackslash{}\\%] 61\n",
       "\\end{description*}\n"
      ],
      "text/markdown": [
       "0%\n",
       ":   1925%\n",
       ":   2950%\n",
       ":   3575%\n",
       ":   42100%\n",
       ":   61\n",
       "\n"
      ],
      "text/plain": [
       "  0%  25%  50%  75% 100% \n",
       "  19   29   35   42   61 "
      ]
     },
     "metadata": {},
     "output_type": "display_data"
    },
    {
     "data": {
      "text/html": [
       "<style>\n",
       ".dl-inline {width: auto; margin:0; padding: 0}\n",
       ".dl-inline>dt, .dl-inline>dd {float: none; width: auto; display: inline-block}\n",
       ".dl-inline>dt::after {content: \":\\0020\"; padding-right: .5ex}\n",
       ".dl-inline>dt:not(:first-of-type) {padding-left: .5ex}\n",
       "</style><dl class=dl-inline><dt>0%</dt><dd>19345.36</dd><dt>25%</dt><dd>47332.8175</dd><dt>50%</dt><dd>57228.185</dd><dt>75%</dt><dd>65518.96</dd><dt>100%</dt><dd>79484.8</dd></dl>\n"
      ],
      "text/latex": [
       "\\begin{description*}\n",
       "\\item[0\\textbackslash{}\\%] 19345.36\n",
       "\\item[25\\textbackslash{}\\%] 47332.8175\n",
       "\\item[50\\textbackslash{}\\%] 57228.185\n",
       "\\item[75\\textbackslash{}\\%] 65518.96\n",
       "\\item[100\\textbackslash{}\\%] 79484.8\n",
       "\\end{description*}\n"
      ],
      "text/markdown": [
       "0%\n",
       ":   19345.3625%\n",
       ":   47332.817550%\n",
       ":   57228.18575%\n",
       ":   65518.96100%\n",
       ":   79484.8\n",
       "\n"
      ],
      "text/plain": [
       "      0%      25%      50%      75%     100% \n",
       "19345.36 47332.82 57228.18 65518.96 79484.80 "
      ]
     },
     "metadata": {},
     "output_type": "display_data"
    },
    {
     "data": {
      "text/html": [
       "<style>\n",
       ".dl-inline {width: auto; margin:0; padding: 0}\n",
       ".dl-inline>dt, .dl-inline>dd {float: none; width: auto; display: inline-block}\n",
       ".dl-inline>dt::after {content: \":\\0020\"; padding-right: .5ex}\n",
       ".dl-inline>dt:not(:first-of-type) {padding-left: .5ex}\n",
       "</style><dl class=dl-inline><dt>0%</dt><dd>104.78</dd><dt>25%</dt><dd>138.6475</dd><dt>50%</dt><dd>183.425</dd><dt>75%</dt><dd>218.8425</dd><dt>100%</dt><dd>269.96</dd></dl>\n"
      ],
      "text/latex": [
       "\\begin{description*}\n",
       "\\item[0\\textbackslash{}\\%] 104.78\n",
       "\\item[25\\textbackslash{}\\%] 138.6475\n",
       "\\item[50\\textbackslash{}\\%] 183.425\n",
       "\\item[75\\textbackslash{}\\%] 218.8425\n",
       "\\item[100\\textbackslash{}\\%] 269.96\n",
       "\\end{description*}\n"
      ],
      "text/markdown": [
       "0%\n",
       ":   104.7825%\n",
       ":   138.647550%\n",
       ":   183.42575%\n",
       ":   218.8425100%\n",
       ":   269.96\n",
       "\n"
      ],
      "text/plain": [
       "      0%      25%      50%      75%     100% \n",
       "104.7800 138.6475 183.4250 218.8425 269.9600 "
      ]
     },
     "metadata": {},
     "output_type": "display_data"
    }
   ],
   "source": [
    "# getting the quantile ranges for the numerical columns\n",
    "\n",
    "# Daily.Time.Spent\n",
    "ads.quantile <- quantile(new_ads$Daily.Time.Spent.on.Site)\n",
    "ads.quantile\n",
    "## the min ,25th quantile, 50th quantile, 75th quantile and max values for daily time spent are 32.600, 51.285, 68.390, 78.585, 91.430 \n",
    "\n",
    "# Age\n",
    "ads.quantile <- quantile(new_ads$Age)\n",
    "ads.quantile\n",
    "## ## the min ,25th quantile, 50th quantile, 75th quantile and max values for age are 19, 29, 35,   42, 61 \n",
    "\n",
    "# Areas.Income\n",
    "ads.quantile <- quantile(new_ads$Area.Income)\n",
    "ads.quantile\n",
    "## ## the min ,25th quantile, 50th quantile, 75th quantile and max values for areas income are 19345.36, 47332.82, 57228.18, 65518.96, 79484.80 \n",
    "\n",
    "# Daily.Internet\n",
    "ads.quantile <- quantile(new_ads$Daily.Internet.Usage)\n",
    "ads.quantile\n",
    "## ## the min ,25th quantile, 50th quantile, 75th quantile and max values for daily internet are 104.7800, 138.6475, 183.4250, 218.8425, 269.9600 \n"
   ]
  },
  {
   "cell_type": "markdown",
   "metadata": {},
   "source": [
    "The variance is a numerical measure of how the data values is dispersed around the mean."
   ]
  },
  {
   "cell_type": "code",
   "execution_count": 19,
   "metadata": {},
   "outputs": [
    {
     "data": {
      "text/html": [
       "252.860887240711"
      ],
      "text/latex": [
       "252.860887240711"
      ],
      "text/markdown": [
       "252.860887240711"
      ],
      "text/plain": [
       "[1] 252.8609"
      ]
     },
     "metadata": {},
     "output_type": "display_data"
    },
    {
     "data": {
      "text/html": [
       "77.4537928045962"
      ],
      "text/latex": [
       "77.4537928045962"
      ],
      "text/markdown": [
       "77.4537928045962"
      ],
      "text/plain": [
       "[1] 77.45379"
      ]
     },
     "metadata": {},
     "output_type": "display_data"
    },
    {
     "data": {
      "text/html": [
       "169137582.387719"
      ],
      "text/latex": [
       "169137582.387719"
      ],
      "text/markdown": [
       "169137582.387719"
      ],
      "text/plain": [
       "[1] 169137582"
      ]
     },
     "metadata": {},
     "output_type": "display_data"
    },
    {
     "data": {
      "text/html": [
       "1938.78465085609"
      ],
      "text/latex": [
       "1938.78465085609"
      ],
      "text/markdown": [
       "1938.78465085609"
      ],
      "text/plain": [
       "[1] 1938.785"
      ]
     },
     "metadata": {},
     "output_type": "display_data"
    }
   ],
   "source": [
    "# getting the variance for the numerical columns\n",
    "\n",
    "\n",
    "# Daily.Time.Spent\n",
    "ads.var <- var(new_ads$Daily.Time.Spent.on.Site)\n",
    "ads.var\n",
    "## the daily time spent variance is 252.8609\n",
    "\n",
    "# Age\n",
    "ads.var <- var(new_ads$Age)\n",
    "ads.var\n",
    "## the age variance is 77.45379 \n",
    "\n",
    "# Areas.Income\n",
    "ads.var <- var(new_ads$Area.Income)\n",
    "ads.var\n",
    "## the areas income variance is 169137582\n",
    "\n",
    "# Daily.Internet\n",
    "ads.var <- var(new_ads$Daily.Internet.Usage)\n",
    "ads.var\n",
    "## the daily internet variance is 1938.785\n"
   ]
  },
  {
   "cell_type": "code",
   "execution_count": 20,
   "metadata": {
    "lines_to_next_cell": 0
   },
   "outputs": [
    {
     "data": {
      "text/plain": [
       "Age\n",
       "19 20 21 22 23 24 25 26 27 28 29 30 31 32 33 34 35 36 37 38 39 40 41 42 43 44 \n",
       " 6  6  6 13 19 21 27 37 33 48 48 38 60 37 43 39 39 49 36 37 29 36 31 26 23 20 \n",
       "45 46 47 48 49 50 51 52 53 54 55 56 57 58 59 60 61 \n",
       "29 18 12 16 18 20 12 15 10  9  7  2  6  4  2  4  1 "
      ]
     },
     "metadata": {},
     "output_type": "display_data"
    },
    {
     "data": {
      "image/png": "[encoded data removed]",
      "text/plain": [
       "plot without title"
      ]
     },
     "metadata": {
      "image/png": {
       "height": 420,
       "width": 420
      },
      "text/plain": {
       "height": 420,
       "width": 420
      }
     },
     "output_type": "display_data"
    }
   ],
   "source": [
    "# Creating bar graphs \n",
    "\n",
    "# Fetching the age column\n",
    "\n",
    "Age <- new_ads$Age\n",
    "\n",
    "# Applying the table() function will compute the frequency distribution of the Age variable\n",
    "# ---\n",
    "# \n",
    "age_freq <- table(Age)\n",
    "age_freq\n",
    "\n",
    "# Applying the barplot function to produce its bar graph\n",
    "\n",
    "barplot(age_freq)"
   ]
  },
  {
   "cell_type": "markdown",
   "metadata": {},
   "source": [
    "We can see that ages between 27 and 35 had the highest frequency from the bargraph. The ads should mostly be targeted to this age category of individuals.\n",
    "\n",
    "From this, we can also tell that our data is skewed to the right."
   ]
  },
  {
   "cell_type": "code",
   "execution_count": 21,
   "metadata": {},
   "outputs": [],
   "source": [
    "# A histogram shows the frequency distribution of a quantitative variable. The area of each bar is equal to the frequency of items found in each class.\n",
    "\n",
    "# We will go ahead and create a histogram."
   ]
  },
  {
   "cell_type": "code",
   "execution_count": 22,
   "metadata": {},
   "outputs": [
    {
     "data": {
      "image/png": "[encoded data removed]",
      "text/plain": [
       "Plot with title “Histogram of new_ads$Age”"
      ]
     },
     "metadata": {
      "image/png": {
       "height": 420,
       "width": 420
      },
      "text/plain": {
       "height": 420,
       "width": 420
      }
     },
     "output_type": "display_data"
    }
   ],
   "source": [
    "# We will apply the hist() function to the age variable\n",
    "\n",
    "hist(new_ads$Age)"
   ]
  },
  {
   "cell_type": "markdown",
   "metadata": {},
   "source": [
    "We get to see the same frequency distribution. Highest frequency is between ages 25 and 40.\n",
    "\n",
    "We also note the positive skewness in the histogram."
   ]
  },
  {
   "cell_type": "code",
   "execution_count": 23,
   "metadata": {
    "lines_to_next_cell": 0
   },
   "outputs": [
    {
     "data": {
      "image/png": "[encoded data removed]",
      "text/plain": [
       "plot without title"
      ]
     },
     "metadata": {
      "image/png": {
       "height": 420,
       "width": 420
      },
      "text/plain": {
       "height": 420,
       "width": 420
      }
     },
     "output_type": "display_data"
    }
   ],
   "source": [
    "# plotting a density plot for ur numerical values\n",
    "\n",
    "library(DataExplorer)\n",
    "plot_density(new_ads)"
   ]
  },
  {
   "cell_type": "markdown",
   "metadata": {},
   "source": [
    "From the density plots, we see that Age has a positive skew meaning more young people click on ads as compared to older people.\n",
    "Income has a negative skew. Most people have high incomes as compared to those with low incomes.\n",
    "Daily internet usgae is more of a binormail distribution.\n",
    "Daily time spent on site  is also more of a negative skew. Most poeple spend around 80 minutes on the site.\n"
   ]
  },
  {
   "cell_type": "code",
   "execution_count": 24,
   "metadata": {
    "lines_to_next_cell": 0
   },
   "outputs": [
    {
     "ename": "ERROR",
     "evalue": "Error in ggplot(data = new_ads, aes(Age)): could not find function \"ggplot\"\n",
     "output_type": "error",
     "traceback": [
      "Error in ggplot(data = new_ads, aes(Age)): could not find function \"ggplot\"\nTraceback:\n"
     ]
    }
   ],
   "source": [
    " # Plotting density plot\n",
    "options(repr.plot.width = 13, repr.plot.height = 7)\n",
    "p1 = ggplot(data = new_ads, aes(Age)) +\n",
    "        geom_density(aes(fill=factor(Clicked.on.Ad)), alpha = 0.8) +\n",
    "        labs(title = 'Clicked on ad density plot', x = 'Age', y = 'Density', fill = 'Clicked.on.Ad') +\n",
    "        scale_color_brewer(palette = 'bright') +\n",
    "        theme(plot.title = element_text(size = 18, face = 'bold', color = 'navyblue'),\n",
    "             axis.title.x = element_text(size = 15, face = 'bold', color = 'navyblue'),\n",
    "             axis.title.y = element_text(size = 15, face = 'bold', color = 'darkmagenta'),\n",
    "             axis.text.x = element_text(size = 13, angle = 0),\n",
    "             axis.text.y = element_text(size = 13),\n",
    "             legend.title = element_text(size = 13, color = 'darkmagenta'),\n",
    "             legend.text = element_text(size = 12))\n",
    "plot(p1)"
   ]
  },
  {
   "cell_type": "markdown",
   "metadata": {},
   "source": [
    "Most young people clicked on ads this is shown by the pink density plot.\n",
    "From the blue denity plot, we acn tell that older people do not click on ads as often."
   ]
  },
  {
   "cell_type": "markdown",
   "metadata": {},
   "source": [
    "## Bivariate Analysis."
   ]
  },
  {
   "cell_type": "markdown",
   "metadata": {},
   "source": [
    "# Covariance \n",
    "Covariance is a statistical representation of the degree to which two variables vary together."
   ]
  },
  {
   "cell_type": "code",
   "execution_count": 25,
   "metadata": {
    "lines_to_next_cell": 0
   },
   "outputs": [
    {
     "data": {
      "text/html": [
       "-46.5009017142183"
      ],
      "text/latex": [
       "-46.5009017142183"
      ],
      "text/markdown": [
       "-46.5009017142183"
      ],
      "text/plain": [
       "[1] -46.5009"
      ]
     },
     "metadata": {},
     "output_type": "display_data"
    }
   ],
   "source": [
    "# We will look at Age vs daily time spent on site\n",
    "\n",
    "# Assigning the Age column to the variable age\n",
    "# ---\n",
    "# \n",
    "Age <- new_ads$Age\n",
    "\n",
    "# Assigning the daiy time spent on site column to the variable time\n",
    "# ---\n",
    "# \n",
    "Time <- new_ads$Daily.Time.Spent.on.Site\n",
    "\n",
    "# Using the cov() function to determine the covariance\n",
    "# ---\n",
    "#\n",
    "cov(Age, Time)\n"
   ]
  },
  {
   "cell_type": "markdown",
   "metadata": {},
   "source": [
    "The covariance of Age  and daily time spent on site is -46.5009. It indicates a negative linear relationship between the two variables."
   ]
  },
  {
   "cell_type": "code",
   "execution_count": 26,
   "metadata": {
    "lines_to_next_cell": 0
   },
   "outputs": [
    {
     "data": {
      "text/html": [
       "-20614.9186858135"
      ],
      "text/latex": [
       "-20614.9186858135"
      ],
      "text/markdown": [
       "-20614.9186858135"
      ],
      "text/plain": [
       "[1] -20614.92"
      ]
     },
     "metadata": {},
     "output_type": "display_data"
    }
   ],
   "source": [
    "# We will look at Age vs income area\n",
    "\n",
    "# Assigning the Age column to the variable age\n",
    "# ---\n",
    "# \n",
    "Age <- new_ads$Age\n",
    "\n",
    "# Assigning the income area column to the variable income\n",
    "# ---\n",
    "# \n",
    "Income <- new_ads$Area.Income\n",
    "\n",
    "# Using the cov() function to determine the covariance\n",
    "# ---\n",
    "#\n",
    "cov(Age, Income)"
   ]
  },
  {
   "cell_type": "markdown",
   "metadata": {},
   "source": [
    "The covariance of Age  and income ares is -20614.92. It indicates a negative linear relationship between the two variables."
   ]
  },
  {
   "cell_type": "code",
   "execution_count": 27,
   "metadata": {
    "lines_to_next_cell": 0
   },
   "outputs": [
    {
     "data": {
      "text/html": [
       "-142.579842900622"
      ],
      "text/latex": [
       "-142.579842900622"
      ],
      "text/markdown": [
       "-142.579842900622"
      ],
      "text/plain": [
       "[1] -142.5798"
      ]
     },
     "metadata": {},
     "output_type": "display_data"
    }
   ],
   "source": [
    "# We will look at Age vs daily internet\n",
    "\n",
    "# Assigning the Age column to the variable age\n",
    "# ---\n",
    "# \n",
    "Age <- new_ads$Age\n",
    "\n",
    "# Assigning the daily internet column to the variable internet\n",
    "# ---\n",
    "# \n",
    "Internet <- new_ads$Daily.Internet.Usage\n",
    "\n",
    "# Using the cov() function to determine the covariance\n",
    "# ---\n",
    "#\n",
    "cov(Age, Internet)"
   ]
  },
  {
   "cell_type": "markdown",
   "metadata": {},
   "source": [
    "The covariance of Age  and internet usage is -142.5798. It indicates a negative linear relationship between the two variables."
   ]
  },
  {
   "cell_type": "code",
   "execution_count": 28,
   "metadata": {},
   "outputs": [
    {
     "ename": "ERROR",
     "evalue": "Error in ggplot(data = new_ads, aes(x = Clicked.on.Ad, fill = Gender)): could not find function \"ggplot\"\n",
     "output_type": "error",
     "traceback": [
      "Error in ggplot(data = new_ads, aes(x = Clicked.on.Ad, fill = Gender)): could not find function \"ggplot\"\nTraceback:\n"
     ]
    }
   ],
   "source": [
    "# a visual to compare the gender vs cicked on ads\n",
    "\n",
    "a = ggplot(data = new_ads, aes(x = Clicked.on.Ad, fill = Gender))+\n",
    "geom_bar(width = 0.5)\n",
    "a"
   ]
  },
  {
   "cell_type": "markdown",
   "metadata": {},
   "source": [
    "Correlation Coefficient\n",
    "\n",
    "The correlation coefficient of two variables in a data set equals to their covariance divided by the product of their individual standard deviations."
   ]
  },
  {
   "cell_type": "code",
   "execution_count": 29,
   "metadata": {
    "lines_to_next_cell": 0
   },
   "outputs": [
    {
     "data": {
      "text/html": [
       "<table>\n",
       "<caption>A data.frame: 992 × 4</caption>\n",
       "<thead>\n",
       "\t<tr><th></th><th scope=col>Daily.Time.Spent.on.Site</th><th scope=col>Age</th><th scope=col>Area.Income</th><th scope=col>Daily.Internet.Usage</th></tr>\n",
       "\t<tr><th></th><th scope=col>&lt;dbl&gt;</th><th scope=col>&lt;int&gt;</th><th scope=col>&lt;dbl&gt;</th><th scope=col>&lt;dbl&gt;</th></tr>\n",
       "</thead>\n",
       "<tbody>\n",
       "\t<tr><th scope=row>1</th><td>68.95</td><td>35</td><td>61833.90</td><td>256.09</td></tr>\n",
       "\t<tr><th scope=row>2</th><td>80.23</td><td>31</td><td>68441.85</td><td>193.77</td></tr>\n",
       "\t<tr><th scope=row>3</th><td>69.47</td><td>26</td><td>59785.94</td><td>236.50</td></tr>\n",
       "\t<tr><th scope=row>4</th><td>74.15</td><td>29</td><td>54806.18</td><td>245.89</td></tr>\n",
       "\t<tr><th scope=row>5</th><td>68.37</td><td>35</td><td>73889.99</td><td>225.58</td></tr>\n",
       "\t<tr><th scope=row>6</th><td>59.99</td><td>23</td><td>59761.56</td><td>226.74</td></tr>\n",
       "\t<tr><th scope=row>7</th><td>88.91</td><td>33</td><td>53852.85</td><td>208.36</td></tr>\n",
       "\t<tr><th scope=row>8</th><td>66.00</td><td>48</td><td>24593.33</td><td>131.76</td></tr>\n",
       "\t<tr><th scope=row>9</th><td>74.53</td><td>30</td><td>68862.00</td><td>221.51</td></tr>\n",
       "\t<tr><th scope=row>10</th><td>69.88</td><td>20</td><td>55642.32</td><td>183.82</td></tr>\n",
       "\t<tr><th scope=row>11</th><td>47.64</td><td>49</td><td>45632.51</td><td>122.02</td></tr>\n",
       "\t<tr><th scope=row>12</th><td>83.07</td><td>37</td><td>62491.01</td><td>230.87</td></tr>\n",
       "\t<tr><th scope=row>13</th><td>69.57</td><td>48</td><td>51636.92</td><td>113.12</td></tr>\n",
       "\t<tr><th scope=row>14</th><td>79.52</td><td>24</td><td>51739.63</td><td>214.23</td></tr>\n",
       "\t<tr><th scope=row>15</th><td>42.95</td><td>33</td><td>30976.00</td><td>143.56</td></tr>\n",
       "\t<tr><th scope=row>16</th><td>63.45</td><td>23</td><td>52182.23</td><td>140.64</td></tr>\n",
       "\t<tr><th scope=row>17</th><td>55.39</td><td>37</td><td>23936.86</td><td>129.41</td></tr>\n",
       "\t<tr><th scope=row>18</th><td>82.03</td><td>41</td><td>71511.08</td><td>187.53</td></tr>\n",
       "\t<tr><th scope=row>19</th><td>54.70</td><td>36</td><td>31087.54</td><td>118.39</td></tr>\n",
       "\t<tr><th scope=row>20</th><td>74.58</td><td>40</td><td>23821.72</td><td>135.51</td></tr>\n",
       "\t<tr><th scope=row>21</th><td>77.22</td><td>30</td><td>64802.33</td><td>224.44</td></tr>\n",
       "\t<tr><th scope=row>22</th><td>84.59</td><td>35</td><td>60015.57</td><td>226.54</td></tr>\n",
       "\t<tr><th scope=row>23</th><td>41.49</td><td>52</td><td>32635.70</td><td>164.83</td></tr>\n",
       "\t<tr><th scope=row>24</th><td>87.29</td><td>36</td><td>61628.72</td><td>209.93</td></tr>\n",
       "\t<tr><th scope=row>25</th><td>41.39</td><td>41</td><td>68962.32</td><td>167.22</td></tr>\n",
       "\t<tr><th scope=row>26</th><td>78.74</td><td>28</td><td>64828.00</td><td>204.79</td></tr>\n",
       "\t<tr><th scope=row>27</th><td>48.53</td><td>28</td><td>38067.08</td><td>134.14</td></tr>\n",
       "\t<tr><th scope=row>28</th><td>51.95</td><td>52</td><td>58295.82</td><td>129.23</td></tr>\n",
       "\t<tr><th scope=row>29</th><td>70.20</td><td>34</td><td>32708.94</td><td>119.20</td></tr>\n",
       "\t<tr><th scope=row>30</th><td>76.02</td><td>22</td><td>46179.97</td><td>209.82</td></tr>\n",
       "\t<tr><th scope=row>⋮</th><td>⋮</td><td>⋮</td><td>⋮</td><td>⋮</td></tr>\n",
       "\t<tr><th scope=row>971</th><td>40.18</td><td>29</td><td>50760.23</td><td>151.96</td></tr>\n",
       "\t<tr><th scope=row>972</th><td>45.17</td><td>48</td><td>34418.09</td><td>132.07</td></tr>\n",
       "\t<tr><th scope=row>973</th><td>50.48</td><td>50</td><td>20592.99</td><td>162.43</td></tr>\n",
       "\t<tr><th scope=row>974</th><td>80.87</td><td>28</td><td>63528.80</td><td>203.30</td></tr>\n",
       "\t<tr><th scope=row>975</th><td>41.88</td><td>40</td><td>44217.68</td><td>126.11</td></tr>\n",
       "\t<tr><th scope=row>976</th><td>39.87</td><td>48</td><td>47929.83</td><td>139.34</td></tr>\n",
       "\t<tr><th scope=row>977</th><td>61.84</td><td>45</td><td>46024.29</td><td>105.63</td></tr>\n",
       "\t<tr><th scope=row>978</th><td>54.97</td><td>31</td><td>51900.03</td><td>116.38</td></tr>\n",
       "\t<tr><th scope=row>979</th><td>71.40</td><td>30</td><td>72188.90</td><td>166.31</td></tr>\n",
       "\t<tr><th scope=row>980</th><td>70.29</td><td>31</td><td>56974.51</td><td>254.65</td></tr>\n",
       "\t<tr><th scope=row>981</th><td>67.26</td><td>57</td><td>25682.65</td><td>168.41</td></tr>\n",
       "\t<tr><th scope=row>982</th><td>76.58</td><td>46</td><td>41884.64</td><td>258.26</td></tr>\n",
       "\t<tr><th scope=row>983</th><td>54.37</td><td>38</td><td>72196.29</td><td>140.77</td></tr>\n",
       "\t<tr><th scope=row>984</th><td>82.79</td><td>32</td><td>54429.17</td><td>234.81</td></tr>\n",
       "\t<tr><th scope=row>985</th><td>66.47</td><td>31</td><td>58037.66</td><td>256.39</td></tr>\n",
       "\t<tr><th scope=row>986</th><td>72.88</td><td>44</td><td>64011.26</td><td>125.12</td></tr>\n",
       "\t<tr><th scope=row>987</th><td>76.44</td><td>28</td><td>59967.19</td><td>232.68</td></tr>\n",
       "\t<tr><th scope=row>988</th><td>63.37</td><td>43</td><td>43155.19</td><td>105.04</td></tr>\n",
       "\t<tr><th scope=row>989</th><td>89.71</td><td>48</td><td>51501.38</td><td>204.40</td></tr>\n",
       "\t<tr><th scope=row>990</th><td>70.96</td><td>31</td><td>55187.85</td><td>256.40</td></tr>\n",
       "\t<tr><th scope=row>991</th><td>35.79</td><td>44</td><td>33813.08</td><td>165.62</td></tr>\n",
       "\t<tr><th scope=row>992</th><td>38.96</td><td>38</td><td>36497.22</td><td>140.67</td></tr>\n",
       "\t<tr><th scope=row>993</th><td>69.17</td><td>40</td><td>66193.81</td><td>123.62</td></tr>\n",
       "\t<tr><th scope=row>994</th><td>64.20</td><td>27</td><td>66200.96</td><td>227.63</td></tr>\n",
       "\t<tr><th scope=row>995</th><td>43.70</td><td>28</td><td>63126.96</td><td>173.01</td></tr>\n",
       "\t<tr><th scope=row>996</th><td>72.97</td><td>30</td><td>71384.57</td><td>208.58</td></tr>\n",
       "\t<tr><th scope=row>997</th><td>51.30</td><td>45</td><td>67782.17</td><td>134.42</td></tr>\n",
       "\t<tr><th scope=row>998</th><td>51.63</td><td>51</td><td>42415.72</td><td>120.37</td></tr>\n",
       "\t<tr><th scope=row>999</th><td>55.55</td><td>19</td><td>41920.79</td><td>187.95</td></tr>\n",
       "\t<tr><th scope=row>1000</th><td>45.01</td><td>26</td><td>29875.80</td><td>178.35</td></tr>\n",
       "</tbody>\n",
       "</table>\n"
      ],
      "text/latex": [
       "A data.frame: 992 × 4\n",
       "\\begin{tabular}{r|llll}\n",
       "  & Daily.Time.Spent.on.Site & Age & Area.Income & Daily.Internet.Usage\\\\\n",
       "  & <dbl> & <int> & <dbl> & <dbl>\\\\\n",
       "\\hline\n",
       "\t1 & 68.95 & 35 & 61833.90 & 256.09\\\\\n",
       "\t2 & 80.23 & 31 & 68441.85 & 193.77\\\\\n",
       "\t3 & 69.47 & 26 & 59785.94 & 236.50\\\\\n",
       "\t4 & 74.15 & 29 & 54806.18 & 245.89\\\\\n",
       "\t5 & 68.37 & 35 & 73889.99 & 225.58\\\\\n",
       "\t6 & 59.99 & 23 & 59761.56 & 226.74\\\\\n",
       "\t7 & 88.91 & 33 & 53852.85 & 208.36\\\\\n",
       "\t8 & 66.00 & 48 & 24593.33 & 131.76\\\\\n",
       "\t9 & 74.53 & 30 & 68862.00 & 221.51\\\\\n",
       "\t10 & 69.88 & 20 & 55642.32 & 183.82\\\\\n",
       "\t11 & 47.64 & 49 & 45632.51 & 122.02\\\\\n",
       "\t12 & 83.07 & 37 & 62491.01 & 230.87\\\\\n",
       "\t13 & 69.57 & 48 & 51636.92 & 113.12\\\\\n",
       "\t14 & 79.52 & 24 & 51739.63 & 214.23\\\\\n",
       "\t15 & 42.95 & 33 & 30976.00 & 143.56\\\\\n",
       "\t16 & 63.45 & 23 & 52182.23 & 140.64\\\\\n",
       "\t17 & 55.39 & 37 & 23936.86 & 129.41\\\\\n",
       "\t18 & 82.03 & 41 & 71511.08 & 187.53\\\\\n",
       "\t19 & 54.70 & 36 & 31087.54 & 118.39\\\\\n",
       "\t20 & 74.58 & 40 & 23821.72 & 135.51\\\\\n",
       "\t21 & 77.22 & 30 & 64802.33 & 224.44\\\\\n",
       "\t22 & 84.59 & 35 & 60015.57 & 226.54\\\\\n",
       "\t23 & 41.49 & 52 & 32635.70 & 164.83\\\\\n",
       "\t24 & 87.29 & 36 & 61628.72 & 209.93\\\\\n",
       "\t25 & 41.39 & 41 & 68962.32 & 167.22\\\\\n",
       "\t26 & 78.74 & 28 & 64828.00 & 204.79\\\\\n",
       "\t27 & 48.53 & 28 & 38067.08 & 134.14\\\\\n",
       "\t28 & 51.95 & 52 & 58295.82 & 129.23\\\\\n",
       "\t29 & 70.20 & 34 & 32708.94 & 119.20\\\\\n",
       "\t30 & 76.02 & 22 & 46179.97 & 209.82\\\\\n",
       "\t⋮ & ⋮ & ⋮ & ⋮ & ⋮\\\\\n",
       "\t971 & 40.18 & 29 & 50760.23 & 151.96\\\\\n",
       "\t972 & 45.17 & 48 & 34418.09 & 132.07\\\\\n",
       "\t973 & 50.48 & 50 & 20592.99 & 162.43\\\\\n",
       "\t974 & 80.87 & 28 & 63528.80 & 203.30\\\\\n",
       "\t975 & 41.88 & 40 & 44217.68 & 126.11\\\\\n",
       "\t976 & 39.87 & 48 & 47929.83 & 139.34\\\\\n",
       "\t977 & 61.84 & 45 & 46024.29 & 105.63\\\\\n",
       "\t978 & 54.97 & 31 & 51900.03 & 116.38\\\\\n",
       "\t979 & 71.40 & 30 & 72188.90 & 166.31\\\\\n",
       "\t980 & 70.29 & 31 & 56974.51 & 254.65\\\\\n",
       "\t981 & 67.26 & 57 & 25682.65 & 168.41\\\\\n",
       "\t982 & 76.58 & 46 & 41884.64 & 258.26\\\\\n",
       "\t983 & 54.37 & 38 & 72196.29 & 140.77\\\\\n",
       "\t984 & 82.79 & 32 & 54429.17 & 234.81\\\\\n",
       "\t985 & 66.47 & 31 & 58037.66 & 256.39\\\\\n",
       "\t986 & 72.88 & 44 & 64011.26 & 125.12\\\\\n",
       "\t987 & 76.44 & 28 & 59967.19 & 232.68\\\\\n",
       "\t988 & 63.37 & 43 & 43155.19 & 105.04\\\\\n",
       "\t989 & 89.71 & 48 & 51501.38 & 204.40\\\\\n",
       "\t990 & 70.96 & 31 & 55187.85 & 256.40\\\\\n",
       "\t991 & 35.79 & 44 & 33813.08 & 165.62\\\\\n",
       "\t992 & 38.96 & 38 & 36497.22 & 140.67\\\\\n",
       "\t993 & 69.17 & 40 & 66193.81 & 123.62\\\\\n",
       "\t994 & 64.20 & 27 & 66200.96 & 227.63\\\\\n",
       "\t995 & 43.70 & 28 & 63126.96 & 173.01\\\\\n",
       "\t996 & 72.97 & 30 & 71384.57 & 208.58\\\\\n",
       "\t997 & 51.30 & 45 & 67782.17 & 134.42\\\\\n",
       "\t998 & 51.63 & 51 & 42415.72 & 120.37\\\\\n",
       "\t999 & 55.55 & 19 & 41920.79 & 187.95\\\\\n",
       "\t1000 & 45.01 & 26 & 29875.80 & 178.35\\\\\n",
       "\\end{tabular}\n"
      ],
      "text/markdown": [
       "\n",
       "A data.frame: 992 × 4\n",
       "\n",
       "| <!--/--> | Daily.Time.Spent.on.Site &lt;dbl&gt; | Age &lt;int&gt; | Area.Income &lt;dbl&gt; | Daily.Internet.Usage &lt;dbl&gt; |\n",
       "|---|---|---|---|---|\n",
       "| 1 | 68.95 | 35 | 61833.90 | 256.09 |\n",
       "| 2 | 80.23 | 31 | 68441.85 | 193.77 |\n",
       "| 3 | 69.47 | 26 | 59785.94 | 236.50 |\n",
       "| 4 | 74.15 | 29 | 54806.18 | 245.89 |\n",
       "| 5 | 68.37 | 35 | 73889.99 | 225.58 |\n",
       "| 6 | 59.99 | 23 | 59761.56 | 226.74 |\n",
       "| 7 | 88.91 | 33 | 53852.85 | 208.36 |\n",
       "| 8 | 66.00 | 48 | 24593.33 | 131.76 |\n",
       "| 9 | 74.53 | 30 | 68862.00 | 221.51 |\n",
       "| 10 | 69.88 | 20 | 55642.32 | 183.82 |\n",
       "| 11 | 47.64 | 49 | 45632.51 | 122.02 |\n",
       "| 12 | 83.07 | 37 | 62491.01 | 230.87 |\n",
       "| 13 | 69.57 | 48 | 51636.92 | 113.12 |\n",
       "| 14 | 79.52 | 24 | 51739.63 | 214.23 |\n",
       "| 15 | 42.95 | 33 | 30976.00 | 143.56 |\n",
       "| 16 | 63.45 | 23 | 52182.23 | 140.64 |\n",
       "| 17 | 55.39 | 37 | 23936.86 | 129.41 |\n",
       "| 18 | 82.03 | 41 | 71511.08 | 187.53 |\n",
       "| 19 | 54.70 | 36 | 31087.54 | 118.39 |\n",
       "| 20 | 74.58 | 40 | 23821.72 | 135.51 |\n",
       "| 21 | 77.22 | 30 | 64802.33 | 224.44 |\n",
       "| 22 | 84.59 | 35 | 60015.57 | 226.54 |\n",
       "| 23 | 41.49 | 52 | 32635.70 | 164.83 |\n",
       "| 24 | 87.29 | 36 | 61628.72 | 209.93 |\n",
       "| 25 | 41.39 | 41 | 68962.32 | 167.22 |\n",
       "| 26 | 78.74 | 28 | 64828.00 | 204.79 |\n",
       "| 27 | 48.53 | 28 | 38067.08 | 134.14 |\n",
       "| 28 | 51.95 | 52 | 58295.82 | 129.23 |\n",
       "| 29 | 70.20 | 34 | 32708.94 | 119.20 |\n",
       "| 30 | 76.02 | 22 | 46179.97 | 209.82 |\n",
       "| ⋮ | ⋮ | ⋮ | ⋮ | ⋮ |\n",
       "| 971 | 40.18 | 29 | 50760.23 | 151.96 |\n",
       "| 972 | 45.17 | 48 | 34418.09 | 132.07 |\n",
       "| 973 | 50.48 | 50 | 20592.99 | 162.43 |\n",
       "| 974 | 80.87 | 28 | 63528.80 | 203.30 |\n",
       "| 975 | 41.88 | 40 | 44217.68 | 126.11 |\n",
       "| 976 | 39.87 | 48 | 47929.83 | 139.34 |\n",
       "| 977 | 61.84 | 45 | 46024.29 | 105.63 |\n",
       "| 978 | 54.97 | 31 | 51900.03 | 116.38 |\n",
       "| 979 | 71.40 | 30 | 72188.90 | 166.31 |\n",
       "| 980 | 70.29 | 31 | 56974.51 | 254.65 |\n",
       "| 981 | 67.26 | 57 | 25682.65 | 168.41 |\n",
       "| 982 | 76.58 | 46 | 41884.64 | 258.26 |\n",
       "| 983 | 54.37 | 38 | 72196.29 | 140.77 |\n",
       "| 984 | 82.79 | 32 | 54429.17 | 234.81 |\n",
       "| 985 | 66.47 | 31 | 58037.66 | 256.39 |\n",
       "| 986 | 72.88 | 44 | 64011.26 | 125.12 |\n",
       "| 987 | 76.44 | 28 | 59967.19 | 232.68 |\n",
       "| 988 | 63.37 | 43 | 43155.19 | 105.04 |\n",
       "| 989 | 89.71 | 48 | 51501.38 | 204.40 |\n",
       "| 990 | 70.96 | 31 | 55187.85 | 256.40 |\n",
       "| 991 | 35.79 | 44 | 33813.08 | 165.62 |\n",
       "| 992 | 38.96 | 38 | 36497.22 | 140.67 |\n",
       "| 993 | 69.17 | 40 | 66193.81 | 123.62 |\n",
       "| 994 | 64.20 | 27 | 66200.96 | 227.63 |\n",
       "| 995 | 43.70 | 28 | 63126.96 | 173.01 |\n",
       "| 996 | 72.97 | 30 | 71384.57 | 208.58 |\n",
       "| 997 | 51.30 | 45 | 67782.17 | 134.42 |\n",
       "| 998 | 51.63 | 51 | 42415.72 | 120.37 |\n",
       "| 999 | 55.55 | 19 | 41920.79 | 187.95 |\n",
       "| 1000 | 45.01 | 26 | 29875.80 | 178.35 |\n",
       "\n"
      ],
      "text/plain": [
       "     Daily.Time.Spent.on.Site Age Area.Income Daily.Internet.Usage\n",
       "1    68.95                    35  61833.90    256.09              \n",
       "2    80.23                    31  68441.85    193.77              \n",
       "3    69.47                    26  59785.94    236.50              \n",
       "4    74.15                    29  54806.18    245.89              \n",
       "5    68.37                    35  73889.99    225.58              \n",
       "6    59.99                    23  59761.56    226.74              \n",
       "7    88.91                    33  53852.85    208.36              \n",
       "8    66.00                    48  24593.33    131.76              \n",
       "9    74.53                    30  68862.00    221.51              \n",
       "10   69.88                    20  55642.32    183.82              \n",
       "11   47.64                    49  45632.51    122.02              \n",
       "12   83.07                    37  62491.01    230.87              \n",
       "13   69.57                    48  51636.92    113.12              \n",
       "14   79.52                    24  51739.63    214.23              \n",
       "15   42.95                    33  30976.00    143.56              \n",
       "16   63.45                    23  52182.23    140.64              \n",
       "17   55.39                    37  23936.86    129.41              \n",
       "18   82.03                    41  71511.08    187.53              \n",
       "19   54.70                    36  31087.54    118.39              \n",
       "20   74.58                    40  23821.72    135.51              \n",
       "21   77.22                    30  64802.33    224.44              \n",
       "22   84.59                    35  60015.57    226.54              \n",
       "23   41.49                    52  32635.70    164.83              \n",
       "24   87.29                    36  61628.72    209.93              \n",
       "25   41.39                    41  68962.32    167.22              \n",
       "26   78.74                    28  64828.00    204.79              \n",
       "27   48.53                    28  38067.08    134.14              \n",
       "28   51.95                    52  58295.82    129.23              \n",
       "29   70.20                    34  32708.94    119.20              \n",
       "30   76.02                    22  46179.97    209.82              \n",
       "⋮    ⋮                        ⋮   ⋮           ⋮                   \n",
       "971  40.18                    29  50760.23    151.96              \n",
       "972  45.17                    48  34418.09    132.07              \n",
       "973  50.48                    50  20592.99    162.43              \n",
       "974  80.87                    28  63528.80    203.30              \n",
       "975  41.88                    40  44217.68    126.11              \n",
       "976  39.87                    48  47929.83    139.34              \n",
       "977  61.84                    45  46024.29    105.63              \n",
       "978  54.97                    31  51900.03    116.38              \n",
       "979  71.40                    30  72188.90    166.31              \n",
       "980  70.29                    31  56974.51    254.65              \n",
       "981  67.26                    57  25682.65    168.41              \n",
       "982  76.58                    46  41884.64    258.26              \n",
       "983  54.37                    38  72196.29    140.77              \n",
       "984  82.79                    32  54429.17    234.81              \n",
       "985  66.47                    31  58037.66    256.39              \n",
       "986  72.88                    44  64011.26    125.12              \n",
       "987  76.44                    28  59967.19    232.68              \n",
       "988  63.37                    43  43155.19    105.04              \n",
       "989  89.71                    48  51501.38    204.40              \n",
       "990  70.96                    31  55187.85    256.40              \n",
       "991  35.79                    44  33813.08    165.62              \n",
       "992  38.96                    38  36497.22    140.67              \n",
       "993  69.17                    40  66193.81    123.62              \n",
       "994  64.20                    27  66200.96    227.63              \n",
       "995  43.70                    28  63126.96    173.01              \n",
       "996  72.97                    30  71384.57    208.58              \n",
       "997  51.30                    45  67782.17    134.42              \n",
       "998  51.63                    51  42415.72    120.37              \n",
       "999  55.55                    19  41920.79    187.95              \n",
       "1000 45.01                    26  29875.80    178.35              "
      ]
     },
     "metadata": {},
     "output_type": "display_data"
    },
    {
     "data": {
      "text/html": [
       "<table>\n",
       "<caption>A matrix: 4 × 4 of type dbl</caption>\n",
       "<thead>\n",
       "\t<tr><th></th><th scope=col>Daily.Time.Spent.on.Site</th><th scope=col>Age</th><th scope=col>Area.Income</th><th scope=col>Daily.Internet.Usage</th></tr>\n",
       "</thead>\n",
       "<tbody>\n",
       "\t<tr><th scope=row>Daily.Time.Spent.on.Site</th><td> 1.0000000</td><td>-0.3322762</td><td> 0.3150374</td><td> 0.5197228</td></tr>\n",
       "\t<tr><th scope=row>Age</th><td>-0.3322762</td><td> 1.0000000</td><td>-0.1801110</td><td>-0.3679358</td></tr>\n",
       "\t<tr><th scope=row>Area.Income</th><td> 0.3150374</td><td>-0.1801110</td><td> 1.0000000</td><td> 0.3508222</td></tr>\n",
       "\t<tr><th scope=row>Daily.Internet.Usage</th><td> 0.5197228</td><td>-0.3679358</td><td> 0.3508222</td><td> 1.0000000</td></tr>\n",
       "</tbody>\n",
       "</table>\n"
      ],
      "text/latex": [
       "A matrix: 4 × 4 of type dbl\n",
       "\\begin{tabular}{r|llll}\n",
       "  & Daily.Time.Spent.on.Site & Age & Area.Income & Daily.Internet.Usage\\\\\n",
       "\\hline\n",
       "\tDaily.Time.Spent.on.Site &  1.0000000 & -0.3322762 &  0.3150374 &  0.5197228\\\\\n",
       "\tAge & -0.3322762 &  1.0000000 & -0.1801110 & -0.3679358\\\\\n",
       "\tArea.Income &  0.3150374 & -0.1801110 &  1.0000000 &  0.3508222\\\\\n",
       "\tDaily.Internet.Usage &  0.5197228 & -0.3679358 &  0.3508222 &  1.0000000\\\\\n",
       "\\end{tabular}\n"
      ],
      "text/markdown": [
       "\n",
       "A matrix: 4 × 4 of type dbl\n",
       "\n",
       "| <!--/--> | Daily.Time.Spent.on.Site | Age | Area.Income | Daily.Internet.Usage |\n",
       "|---|---|---|---|---|\n",
       "| Daily.Time.Spent.on.Site |  1.0000000 | -0.3322762 |  0.3150374 |  0.5197228 |\n",
       "| Age | -0.3322762 |  1.0000000 | -0.1801110 | -0.3679358 |\n",
       "| Area.Income |  0.3150374 | -0.1801110 |  1.0000000 |  0.3508222 |\n",
       "| Daily.Internet.Usage |  0.5197228 | -0.3679358 |  0.3508222 |  1.0000000 |\n",
       "\n"
      ],
      "text/plain": [
       "                         Daily.Time.Spent.on.Site Age        Area.Income\n",
       "Daily.Time.Spent.on.Site  1.0000000               -0.3322762  0.3150374 \n",
       "Age                      -0.3322762                1.0000000 -0.1801110 \n",
       "Area.Income               0.3150374               -0.1801110  1.0000000 \n",
       "Daily.Internet.Usage      0.5197228               -0.3679358  0.3508222 \n",
       "                         Daily.Internet.Usage\n",
       "Daily.Time.Spent.on.Site  0.5197228          \n",
       "Age                      -0.3679358          \n",
       "Area.Income               0.3508222          \n",
       "Daily.Internet.Usage      1.0000000          "
      ]
     },
     "metadata": {},
     "output_type": "display_data"
    }
   ],
   "source": [
    "# getting the correlation matrix for our numerical columns\n",
    "\n",
    "X = subset(new_ads, select = c(\"Daily.Time.Spent.on.Site\", \"Age\", \"Area.Income\", \"Daily.Internet.Usage\"))\n",
    "X\n",
    "cor(X)\n"
   ]
  },
  {
   "cell_type": "markdown",
   "metadata": {},
   "source": [
    "Daily internet usage is positively correlated with daily time spent on site at 0.52."
   ]
  },
  {
   "cell_type": "markdown",
   "metadata": {},
   "source": [
    "MODELING"
   ]
  },
  {
   "cell_type": "raw",
   "metadata": {},
   "source": [
    "Decision Trees\n",
    "\n",
    "We will use decision trees model to reate a prediction model predicts whether a user will click an Ad."
   ]
  },
  {
   "cell_type": "code",
   "execution_count": 30,
   "metadata": {},
   "outputs": [
    {
     "data": {
      "text/html": [
       "<table>\n",
       "<caption>A data.frame: 6 × 6</caption>\n",
       "<thead>\n",
       "\t<tr><th></th><th scope=col>Daily.Time.Spent.on.Site</th><th scope=col>Age</th><th scope=col>Area.Income</th><th scope=col>Daily.Internet.Usage</th><th scope=col>Gender</th><th scope=col>Clicked.on.Ad</th></tr>\n",
       "\t<tr><th></th><th scope=col>&lt;dbl&gt;</th><th scope=col>&lt;int&gt;</th><th scope=col>&lt;dbl&gt;</th><th scope=col>&lt;dbl&gt;</th><th scope=col>&lt;int&gt;</th><th scope=col>&lt;int&gt;</th></tr>\n",
       "</thead>\n",
       "<tbody>\n",
       "\t<tr><th scope=row>1</th><td>68.95</td><td>35</td><td>61833.90</td><td>256.09</td><td>0</td><td>0</td></tr>\n",
       "\t<tr><th scope=row>2</th><td>80.23</td><td>31</td><td>68441.85</td><td>193.77</td><td>1</td><td>0</td></tr>\n",
       "\t<tr><th scope=row>3</th><td>69.47</td><td>26</td><td>59785.94</td><td>236.50</td><td>0</td><td>0</td></tr>\n",
       "\t<tr><th scope=row>4</th><td>74.15</td><td>29</td><td>54806.18</td><td>245.89</td><td>1</td><td>0</td></tr>\n",
       "\t<tr><th scope=row>5</th><td>68.37</td><td>35</td><td>73889.99</td><td>225.58</td><td>0</td><td>0</td></tr>\n",
       "\t<tr><th scope=row>6</th><td>59.99</td><td>23</td><td>59761.56</td><td>226.74</td><td>1</td><td>0</td></tr>\n",
       "</tbody>\n",
       "</table>\n"
      ],
      "text/latex": [
       "A data.frame: 6 × 6\n",
       "\\begin{tabular}{r|llllll}\n",
       "  & Daily.Time.Spent.on.Site & Age & Area.Income & Daily.Internet.Usage & Gender & Clicked.on.Ad\\\\\n",
       "  & <dbl> & <int> & <dbl> & <dbl> & <int> & <int>\\\\\n",
       "\\hline\n",
       "\t1 & 68.95 & 35 & 61833.90 & 256.09 & 0 & 0\\\\\n",
       "\t2 & 80.23 & 31 & 68441.85 & 193.77 & 1 & 0\\\\\n",
       "\t3 & 69.47 & 26 & 59785.94 & 236.50 & 0 & 0\\\\\n",
       "\t4 & 74.15 & 29 & 54806.18 & 245.89 & 1 & 0\\\\\n",
       "\t5 & 68.37 & 35 & 73889.99 & 225.58 & 0 & 0\\\\\n",
       "\t6 & 59.99 & 23 & 59761.56 & 226.74 & 1 & 0\\\\\n",
       "\\end{tabular}\n"
      ],
      "text/markdown": [
       "\n",
       "A data.frame: 6 × 6\n",
       "\n",
       "| <!--/--> | Daily.Time.Spent.on.Site &lt;dbl&gt; | Age &lt;int&gt; | Area.Income &lt;dbl&gt; | Daily.Internet.Usage &lt;dbl&gt; | Gender &lt;int&gt; | Clicked.on.Ad &lt;int&gt; |\n",
       "|---|---|---|---|---|---|---|\n",
       "| 1 | 68.95 | 35 | 61833.90 | 256.09 | 0 | 0 |\n",
       "| 2 | 80.23 | 31 | 68441.85 | 193.77 | 1 | 0 |\n",
       "| 3 | 69.47 | 26 | 59785.94 | 236.50 | 0 | 0 |\n",
       "| 4 | 74.15 | 29 | 54806.18 | 245.89 | 1 | 0 |\n",
       "| 5 | 68.37 | 35 | 73889.99 | 225.58 | 0 | 0 |\n",
       "| 6 | 59.99 | 23 | 59761.56 | 226.74 | 1 | 0 |\n",
       "\n"
      ],
      "text/plain": [
       "  Daily.Time.Spent.on.Site Age Area.Income Daily.Internet.Usage Gender\n",
       "1 68.95                    35  61833.90    256.09               0     \n",
       "2 80.23                    31  68441.85    193.77               1     \n",
       "3 69.47                    26  59785.94    236.50               0     \n",
       "4 74.15                    29  54806.18    245.89               1     \n",
       "5 68.37                    35  73889.99    225.58               0     \n",
       "6 59.99                    23  59761.56    226.74               1     \n",
       "  Clicked.on.Ad\n",
       "1 0            \n",
       "2 0            \n",
       "3 0            \n",
       "4 0            \n",
       "5 0            \n",
       "6 0            "
      ]
     },
     "metadata": {},
     "output_type": "display_data"
    }
   ],
   "source": [
    "# subseting out data to include data that we will use for our modelling\n",
    "\n",
    "ads_subset = new_ads[, c(1,2,3,4,7,10)]\n",
    "head(ads_subset)"
   ]
  },
  {
   "cell_type": "code",
   "execution_count": 32,
   "metadata": {},
   "outputs": [
    {
     "name": "stderr",
     "output_type": "stream",
     "text": [
      "Updating HTML index of packages in '.Library'\n",
      "\n",
      "Making 'packages.html' ...\n",
      " done\n",
      "\n"
     ]
    },
    {
     "data": {
      "image/png": "[encoded data removed]",
      "text/plain": [
       "plot without title"
      ]
     },
     "metadata": {
      "image/png": {
       "height": 420,
       "width": 780
      },
      "text/plain": {
       "height": 420,
       "width": 780
      }
     },
     "output_type": "display_data"
    }
   ],
   "source": [
    "# We will use  Decision Trees to model.\n",
    "\n",
    "install.packages(\"rpart.plot\")\n",
    "library(rpart)\n",
    "library(rpart.plot)\n",
    "\n",
    "modeling <- rpart(Clicked.on.Ad ~ ., data = ads_subset,\n",
    "           method = \"class\")\n",
    "\n",
    "# Plotting our model\n",
    "rpart.plot(modeling)"
   ]
  },
  {
   "cell_type": "code",
   "execution_count": 33,
   "metadata": {},
   "outputs": [
    {
     "data": {
      "text/plain": [
       "    \n",
       "pred   0   1\n",
       "   0 485  25\n",
       "   1  15 467"
      ]
     },
     "metadata": {},
     "output_type": "display_data"
    }
   ],
   "source": [
    "# predicting\n",
    "\n",
    "pred <- predict(modeling, ads_subset, type = \"class\")\n",
    "table(pred, ads_subset$Clicked.on.Ad)"
   ]
  },
  {
   "cell_type": "code",
   "execution_count": 34,
   "metadata": {},
   "outputs": [
    {
     "data": {
      "text/html": [
       "0.959677419354839"
      ],
      "text/latex": [
       "0.959677419354839"
      ],
      "text/markdown": [
       "0.959677419354839"
      ],
      "text/plain": [
       "[1] 0.9596774"
      ]
     },
     "metadata": {},
     "output_type": "display_data"
    }
   ],
   "source": [
    " # Printing the Accuracy\n",
    "    \n",
    "    mean(ads_subet$Clicked.on.Ad == pred)"
   ]
  },
  {
   "cell_type": "markdown",
   "metadata": {},
   "source": [
    "The model accuracy is 95.9%\n",
    "This is a good model to make predictions."
   ]
  }
 ],
 "metadata": {
  "jupytext": {
   "main_language": "R",
   "text_representation": {
    "extension": ".Rmd",
    "format_name": "rmarkdown"
   }
  },
  "kernelspec": {
   "display_name": "R",
   "language": "R",
   "name": "ir"
  },
  "language_info": {
   "codemirror_mode": "r",
   "file_extension": ".r",
   "mimetype": "text/x-r-source",
   "name": "R",
   "pygments_lexer": "r",
   "version": "3.6.1"
  }
 },
 "nbformat": 4,
 "nbformat_minor": 4
}
